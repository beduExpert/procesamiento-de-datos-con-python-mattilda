{
 "cells": [
  {
   "cell_type": "markdown",
   "metadata": {},
   "source": [
    "## Ejemplo 1: Map\n",
    "\n",
    "### 1. Objetivos:\n",
    "    - Entender cómo funciona la función `map` y verla aplicada en ejemplos para después poder reproducir su uso\n",
    " \n",
    "---\n",
    "    \n",
    "### 2. Desarrollo:"
   ]
  },
  {
   "cell_type": "markdown",
   "metadata": {},
   "source": [
    "Muchas veces vamos a querer aplicar funciones a cada uno de los elementos en una `lista`. Esto es un procedimiento muy común en la ciencia de datos. Aplicar funciones \"elemento por elemento\" a una `lista` es bastante tedioso sin utilizar la función `map`. Por suerte, `map` hace todo muy fácil e intuitivo."
   ]
  },
  {
   "cell_type": "markdown",
   "metadata": {},
   "source": [
    "Para poder usar `map` primero necesitamos una `lista`:"
   ]
  },
  {
   "cell_type": "code",
   "execution_count": 2,
   "metadata": {},
   "outputs": [],
   "source": [
    "numeros = [1, 2, 3, 4, 5, 6, 7, 8, 9, 10]"
   ]
  },
  {
   "cell_type": "markdown",
   "metadata": {},
   "source": [
    "Listo.\n",
    "\n",
    "Ahora tenemos que pensar qué proceso queremos aplicar a cada uno de los elementos de la lista. Digamos que queremos multiplicarlos por 10. Hay que escribir una función entonces que reciba un parámetro (que va a ser cada uno de nuestros números) y lo regrese multiplicado por 10:"
   ]
  },
  {
   "cell_type": "code",
   "execution_count": 3,
   "metadata": {},
   "outputs": [],
   "source": [
    "def multiplicar_por_10(numero):\n",
    "    \n",
    "    return numero * 10"
   ]
  },
  {
   "cell_type": "markdown",
   "metadata": {},
   "source": [
    "El siguente paso es aplicar nuestra función a la `lista` usando `map`:"
   ]
  },
  {
   "cell_type": "code",
   "execution_count": 5,
   "metadata": {},
   "outputs": [
    {
     "data": {
      "text/plain": [
       "[10, 20, 30, 40, 50, 60, 70, 80, 90, 100]"
      ]
     },
     "execution_count": 5,
     "metadata": {},
     "output_type": "execute_result"
    }
   ],
   "source": [
    "list(map(multiplicar_por_10, numeros))"
   ]
  },
  {
   "cell_type": "markdown",
   "metadata": {},
   "source": [
    "¿Por qué estamos agregando esa función `list`? Como viste en el Prework, `list` nos ayuda a convertir el resultado de `map` en una lista común y corriente. Podríamos guardar el resultado de este procedimiento en otra variable:"
   ]
  },
  {
   "cell_type": "code",
   "execution_count": 6,
   "metadata": {},
   "outputs": [
    {
     "data": {
      "text/plain": [
       "[10, 20, 30, 40, 50, 60, 70, 80, 90, 100]"
      ]
     },
     "execution_count": 6,
     "metadata": {},
     "output_type": "execute_result"
    }
   ],
   "source": [
    "numeros_por_10 = list(map(multiplicar_por_10, numeros))\n",
    "\n",
    "numeros_por_10"
   ]
  },
  {
   "cell_type": "markdown",
   "metadata": {},
   "source": [
    "¡Tan fácil como eso!\n",
    "\n",
    "Podemos aplicar una infinidad de funciones a nuestra `lista` usando `map`. Veamos algunos otros ejemplos:"
   ]
  },
  {
   "cell_type": "code",
   "execution_count": 8,
   "metadata": {},
   "outputs": [
    {
     "data": {
      "text/plain": [
       "['1 seg',\n",
       " '2 seg',\n",
       " '3 seg',\n",
       " '4 seg',\n",
       " '5 seg',\n",
       " '6 seg',\n",
       " '7 seg',\n",
       " '8 seg',\n",
       " '9 seg',\n",
       " '10 seg']"
      ]
     },
     "execution_count": 8,
     "metadata": {},
     "output_type": "execute_result"
    }
   ],
   "source": [
    "def convertir_en_string_mas_unidad(numero):\n",
    "    \n",
    "    return f'{numero} seg'\n",
    "\n",
    "list(map(convertir_en_string_mas_unidad, numeros))"
   ]
  },
  {
   "cell_type": "code",
   "execution_count": 9,
   "metadata": {},
   "outputs": [
    {
     "data": {
      "text/plain": [
       "[-1, -2, -3, -4, -5, -6, -7, -8, -9, -10]"
      ]
     },
     "execution_count": 9,
     "metadata": {},
     "output_type": "execute_result"
    }
   ],
   "source": [
    "def convertir_a_numeros_negativos(numero):\n",
    "    \n",
    "    return numero * -1\n",
    "\n",
    "list(map(convertir_a_numeros_negativos, numeros))"
   ]
  },
  {
   "cell_type": "code",
   "execution_count": 11,
   "metadata": {},
   "outputs": [
    {
     "data": {
      "text/plain": [
       "[0, 0, 0, 0, 5, 6, 7, 8, 9, 10]"
      ]
     },
     "execution_count": 11,
     "metadata": {},
     "output_type": "execute_result"
    }
   ],
   "source": [
    "def convertir_en_0_si_menor_a_5(numero):\n",
    "    \n",
    "    if numero < 5:\n",
    "        return 0\n",
    "    else:\n",
    "        return numero\n",
    "        \n",
    "list(map(convertir_en_0_si_menor_a_5, numeros))"
   ]
  },
  {
   "cell_type": "code",
   "execution_count": 12,
   "metadata": {},
   "outputs": [
    {
     "data": {
      "text/plain": [
       "[False, False, False, False, False, False, True, True, True, True]"
      ]
     },
     "execution_count": 12,
     "metadata": {},
     "output_type": "execute_result"
    }
   ],
   "source": [
    "def convertir_en_true_si_mayor_a_6(numero):\n",
    "    \n",
    "    if numero > 6:\n",
    "        return True\n",
    "    else:\n",
    "        return False\n",
    "    \n",
    "list(map(convertir_en_true_si_mayor_a_6, numeros))"
   ]
  },
  {
   "cell_type": "markdown",
   "metadata": {},
   "source": [
    "Ahora es tu turno de practicar. ¡Vayamos al primer Reto!"
   ]
  }
 ],
 "metadata": {
  "kernelspec": {
   "display_name": "Python (data_science)",
   "language": "python",
   "name": "data_science"
  },
  "language_info": {
   "codemirror_mode": {
    "name": "ipython",
    "version": 3
   },
   "file_extension": ".py",
   "mimetype": "text/x-python",
   "name": "python",
   "nbconvert_exporter": "python",
   "pygments_lexer": "ipython3",
   "version": "3.8.5"
  }
 },
 "nbformat": 4,
 "nbformat_minor": 4
}
