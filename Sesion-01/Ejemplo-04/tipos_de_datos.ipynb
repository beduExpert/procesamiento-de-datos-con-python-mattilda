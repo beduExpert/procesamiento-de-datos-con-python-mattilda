{
 "cells": [
  {
   "cell_type": "markdown",
   "metadata": {},
   "source": [
    "## Ejemplo 4: Tipos de Dato\n",
    "\n",
    "### 1. Objetivos:\n",
    "    - Hablar sobre los 4 tipos de datos básicos que tiene Python\n",
    " \n",
    "---\n",
    "    \n",
    "### 2. Desarrollo:"
   ]
  },
  {
   "cell_type": "markdown",
   "metadata": {},
   "source": [
    "Tenemos 4 tipos de datos básicos. Veámoslos en código y usemos las funciones `print` y `type` para imprimir los tipos de manera explícita:"
   ]
  },
  {
   "cell_type": "code",
   "execution_count": 3,
   "metadata": {},
   "outputs": [
    {
     "name": "stdout",
     "output_type": "stream",
     "text": [
      "4598\n",
      "<class 'int'>\n",
      "\n",
      "\n",
      "369.432\n",
      "<class 'float'>\n",
      "\n",
      "\n",
      "Soy una string\n",
      "<class 'str'>\n",
      "\n",
      "\n",
      "True\n",
      "<class 'bool'>\n",
      "\n",
      "\n"
     ]
    }
   ],
   "source": [
    "# Este es un número entero\n",
    "\n",
    "var_int = 4598\n",
    "\n",
    "print(var_int)\n",
    "print(type(var_int))\n",
    "print(\"\\n\")\n",
    "\n",
    "# Este es un número decimal\n",
    "\n",
    "var_float = 369.432\n",
    "\n",
    "print(var_float)\n",
    "print(type(var_float))\n",
    "print(\"\\n\")\n",
    "\n",
    "# Esta es una string\n",
    "\n",
    "var_string = \"Soy una string\"\n",
    "\n",
    "print(var_string)\n",
    "print(type(var_string))\n",
    "print(\"\\n\")\n",
    "\n",
    "# Este es un booleano\n",
    "\n",
    "var_bool = True\n",
    "\n",
    "print(var_bool)\n",
    "print(type(var_bool))\n",
    "print(\"\\n\")"
   ]
  },
  {
   "cell_type": "code",
   "execution_count": null,
   "metadata": {},
   "outputs": [],
   "source": []
  }
 ],
 "metadata": {
  "kernelspec": {
   "display_name": "Python (data_science)",
   "language": "python",
   "name": "data_science"
  },
  "language_info": {
   "codemirror_mode": {
    "name": "ipython",
    "version": 3
   },
   "file_extension": ".py",
   "mimetype": "text/x-python",
   "name": "python",
   "nbconvert_exporter": "python",
   "pygments_lexer": "ipython3",
   "version": "3.8.5"
  }
 },
 "nbformat": 4,
 "nbformat_minor": 4
}
