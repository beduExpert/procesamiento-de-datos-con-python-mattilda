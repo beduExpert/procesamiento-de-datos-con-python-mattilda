{
 "cells": [
  {
   "cell_type": "markdown",
   "metadata": {},
   "source": [
    "## Reto 3: Evitando errores con try except\n",
    "\n",
    "### 1. Objetivos:\n",
    "    - Usar una estructura try except para evitar que una función lance un error\n",
    " \n",
    "---\n",
    "    \n",
    "### 2. Desarrollo:"
   ]
  },
  {
   "cell_type": "markdown",
   "metadata": {},
   "source": [
    "### a) Evitando errores al hacer conversión de tipos de dato\n",
    "\n",
    "La conversión de tipos de dato (data casting) es una de las labores más importantes de un procesador de datos. A veces tenemos datos que deberían de tener un tipo de dato pero que tienen otro. Vamos a imaginar que tenemos un sistema donde recibimos input de un usuario. Este input son números que están representados como strings, como por ejemplo:\n",
    "\n",
    "- \"1.5\"\n",
    "- \"4\"\n",
    "- \"100.23\"\n",
    "- \"134.99\"\n",
    "\n",
    "Nosotros queremos guardar esos datos como `float`, no como `string` y por lo tanto vamos a crear una función que convierta una `lista` de `strings` en una `lista` de `float`. El problema es que a veces, el usuario envía inputs que no son números representados como `strings`, sino otro tipo de caracteres, como:\n",
    "\n",
    "- \"a\"\n",
    "- \"fgwe\"\n",
    "- \"4r5t\"\n",
    "- \"#!\"\n",
    "\n",
    "Esos caracteres no los podemos convertir en `float` y por lo tanto vamos a sustituirlos por un `NaN` de `numpy` (`np.nan`). Tu reto es el siguiente:\n",
    "\n",
    "1. Completa la función debajo que recibe una `lista` de `strings` y regresa una `lista` de `floats`.\n",
    "2. Usa un `for loop` para iterar por la `lista` de `strings` y convertir uno por uno los valores a `float` (puedes leer cómo hacer eso [aquí](http://lineadecodigo.com/python/iterar-una-lista-en-python/) y [aquí](https://es.stackoverflow.com/questions/49194/c%C3%B3mo-convertir-un-tipo-string-a-float-o-int))\n",
    "3. Los resultados exitosos de la conversión guárdalos en una la `lista` `lista_de_floats` que es lo que regresa la función.\n",
    "4. Agrega una estructura `try except` para evitar errores cuando la conversión no sea posible y para agregar un `np.nan` a `lista_de_floats` en caso de que la conversión haya fallado."
   ]
  },
  {
   "cell_type": "code",
   "execution_count": null,
   "metadata": {},
   "outputs": [],
   "source": [
    "def lista_de_strings_a_lista_de_floats(lista_de_strings):\n",
    "    \n",
    "    lista_de_floats = []\n",
    "    \n",
    "    ## Tú código va aquí\n",
    "    ## ...\n",
    "    ## ...\n",
    "        \n",
    "    return lista_de_floats"
   ]
  },
  {
   "cell_type": "markdown",
   "metadata": {},
   "source": [
    "Pídele a tu experta la función de verificación `test_lista_de_strings_a_lista_de_floats` (encontrada en el archivo `helpers.py` de la carpeta donde se encuentra este Reto), pégala debajo y corre la celda para verificar tu resultado:"
   ]
  },
  {
   "cell_type": "code",
   "execution_count": null,
   "metadata": {},
   "outputs": [],
   "source": [
    "# Pega aquí la función de verificación\n",
    "\n",
    "test_lista_de_strings_a_lista_de_floats(lista_de_strings_a_lista_de_floats)"
   ]
  },
  {
   "cell_type": "markdown",
   "metadata": {},
   "source": [
    "<details><summary>Solución</summary>\n",
    "\n",
    "```python\n",
    "import numpy as np\n",
    "\n",
    "def lista_de_strings_a_lista_de_floats(lista_de_strings):\n",
    "    \n",
    "    lista_de_floats = []\n",
    "    \n",
    "    for string in lista_de_strings:\n",
    "        try:\n",
    "            float_ = float(string)\n",
    "            lista_de_floats.append(float_)\n",
    "        except:\n",
    "            lista_de_floats.append(np.nan)\n",
    "        \n",
    "    return lista_de_floats\n",
    "```\n",
    "    \n",
    "</details>"
   ]
  },
  {
   "cell_type": "code",
   "execution_count": null,
   "metadata": {},
   "outputs": [],
   "source": []
  }
 ],
 "metadata": {
  "kernelspec": {
   "display_name": "Python (data_science)",
   "language": "python",
   "name": "data_science"
  },
  "language_info": {
   "codemirror_mode": {
    "name": "ipython",
    "version": 3
   },
   "file_extension": ".py",
   "mimetype": "text/x-python",
   "name": "python",
   "nbconvert_exporter": "python",
   "pygments_lexer": "ipython3",
   "version": "3.8.1"
  }
 },
 "nbformat": 4,
 "nbformat_minor": 4
}
