{
 "cells": [
  {
   "cell_type": "markdown",
   "metadata": {},
   "source": [
    "## Ejemplo 1: Usando la librería Request\n",
    "\n",
    "### 1. Objetivos:\n",
    "    - Aprender a usar la librería Request para hacer peticiones HTTP\n",
    " \n",
    "---\n",
    "    \n",
    "### 2. Desarrollo:"
   ]
  },
  {
   "cell_type": "code",
   "execution_count": 13,
   "metadata": {},
   "outputs": [],
   "source": [
    "import requests\n",
    "import pandas as pd"
   ]
  },
  {
   "cell_type": "markdown",
   "metadata": {},
   "source": [
    "Vamos a hacer peticiones a una api de la NASA que ofrece datos sobre objetos que orbitan cerca de la Tierra. Pueden ver la documentación [aquí](https://api.nasa.gov/). Ahí podemos ver los endpoints y la manera en la que se usa la Api Key. Ve a la página y consigue tu propia Api Key para que puedas realizar los ejercicios."
   ]
  },
  {
   "cell_type": "markdown",
   "metadata": {},
   "source": [
    "Ahora, para empezar, necesitamos nuestro endpoint y nuestro diccionario de parámetros."
   ]
  },
  {
   "cell_type": "code",
   "execution_count": 2,
   "metadata": {},
   "outputs": [],
   "source": [
    "endpoint = 'https://api.nasa.gov/neo/rest/v1/neo/browse/'\n",
    "payload = {'api_key': 'tu_api_key_va_aqui'}"
   ]
  },
  {
   "cell_type": "markdown",
   "metadata": {},
   "source": [
    "Ambos se los pasamos al método `GET` de requests para realizar la petición a ese endpoint y enviar los parámetros como información extra que el API necesita para validar nuestra petición:"
   ]
  },
  {
   "cell_type": "code",
   "execution_count": 3,
   "metadata": {},
   "outputs": [],
   "source": [
    "r = requests.get(endpoint, params=payload)"
   ]
  },
  {
   "cell_type": "markdown",
   "metadata": {},
   "source": [
    "Ahora, podemos leer lo siguiente de nuestro objeto de respuesta:"
   ]
  },
  {
   "cell_type": "code",
   "execution_count": 4,
   "metadata": {},
   "outputs": [
    {
     "data": {
      "text/plain": [
       "200"
      ]
     },
     "execution_count": 4,
     "metadata": {},
     "output_type": "execute_result"
    }
   ],
   "source": [
    "r.status_code"
   ]
  },
  {
   "cell_type": "markdown",
   "metadata": {},
   "source": [
    "r.json()"
   ]
  },
  {
   "cell_type": "markdown",
   "metadata": {},
   "source": [
    "¡Esa es una respuesta muy larga! Vamos a diseccionarla:"
   ]
  },
  {
   "cell_type": "code",
   "execution_count": 6,
   "metadata": {},
   "outputs": [],
   "source": [
    "json = r.json()"
   ]
  },
  {
   "cell_type": "code",
   "execution_count": 7,
   "metadata": {},
   "outputs": [
    {
     "data": {
      "text/plain": [
       "dict_keys(['links', 'page', 'near_earth_objects'])"
      ]
     },
     "execution_count": 7,
     "metadata": {},
     "output_type": "execute_result"
    }
   ],
   "source": [
    "json.keys()"
   ]
  },
  {
   "cell_type": "code",
   "execution_count": 8,
   "metadata": {},
   "outputs": [
    {
     "data": {
      "text/plain": [
       "{'next': 'http://www.neowsapp.com/rest/v1/neo/browse?page=1&size=20&api_key=KidBlDQkkXeu9dFpdV5GSVDrTH2H640zggDaZJ1a',\n",
       " 'self': 'http://www.neowsapp.com/rest/v1/neo/browse?page=0&size=20&api_key=KidBlDQkkXeu9dFpdV5GSVDrTH2H640zggDaZJ1a'}"
      ]
     },
     "execution_count": 8,
     "metadata": {},
     "output_type": "execute_result"
    }
   ],
   "source": [
    "json['links']"
   ]
  },
  {
   "cell_type": "code",
   "execution_count": 9,
   "metadata": {},
   "outputs": [
    {
     "data": {
      "text/plain": [
       "{'size': 20, 'total_elements': 23798, 'total_pages': 1190, 'number': 0}"
      ]
     },
     "execution_count": 9,
     "metadata": {},
     "output_type": "execute_result"
    }
   ],
   "source": [
    "json['page']"
   ]
  },
  {
   "cell_type": "code",
   "execution_count": 10,
   "metadata": {},
   "outputs": [],
   "source": [
    "data = json['near_earth_objects']"
   ]
  },
  {
   "cell_type": "code",
   "execution_count": 11,
   "metadata": {},
   "outputs": [
    {
     "data": {
      "text/plain": [
       "{'links': {'self': 'http://www.neowsapp.com/rest/v1/neo/2021277?api_key=KidBlDQkkXeu9dFpdV5GSVDrTH2H640zggDaZJ1a'},\n",
       " 'id': '2021277',\n",
       " 'neo_reference_id': '2021277',\n",
       " 'name': '21277 (1996 TO5)',\n",
       " 'designation': '21277',\n",
       " 'nasa_jpl_url': 'http://ssd.jpl.nasa.gov/sbdb.cgi?sstr=2021277',\n",
       " 'absolute_magnitude_h': 16.1,\n",
       " 'estimated_diameter': {'kilometers': {'estimated_diameter_min': 1.6016033798,\n",
       "   'estimated_diameter_max': 3.5812940302},\n",
       "  'meters': {'estimated_diameter_min': 1601.6033797856,\n",
       "   'estimated_diameter_max': 3581.2940301941},\n",
       "  'miles': {'estimated_diameter_min': 0.9951898937,\n",
       "   'estimated_diameter_max': 2.2253122528},\n",
       "  'feet': {'estimated_diameter_min': 5254.6044325359,\n",
       "   'estimated_diameter_max': 11749.652706022}},\n",
       " 'is_potentially_hazardous_asteroid': False,\n",
       " 'close_approach_data': [{'close_approach_date': '1945-06-07',\n",
       "   'close_approach_date_full': '1945-Jun-07 22:35',\n",
       "   'epoch_date_close_approach': -775272300000,\n",
       "   'relative_velocity': {'kilometers_per_second': '15.5094751879',\n",
       "    'kilometers_per_hour': '55834.1106763388',\n",
       "    'miles_per_hour': '34693.1450477507'},\n",
       "   'miss_distance': {'astronomical': '0.0334232973',\n",
       "    'lunar': '13.0016626497',\n",
       "    'kilometers': '5000054.084456751',\n",
       "    'miles': '3106889.5396991238'},\n",
       "   'orbiting_body': 'Mars'}],\n",
       " 'orbital_data': {'orbit_id': '164',\n",
       "  'orbit_determination_date': '2020-04-29 06:55:15',\n",
       "  'first_observation_date': '1990-02-04',\n",
       "  'last_observation_date': '2020-04-28',\n",
       "  'data_arc_in_days': 11041,\n",
       "  'observations_used': 656,\n",
       "  'orbit_uncertainty': '0',\n",
       "  'minimum_orbit_intersection': '.313031',\n",
       "  'jupiter_tisserand_invariant': '3.267',\n",
       "  'epoch_osculation': '2459000.5',\n",
       "  'eccentricity': '.5205881322259853',\n",
       "  'semi_major_axis': '2.37660147442171',\n",
       "  'inclination': '20.95226489770891',\n",
       "  'ascending_node_longitude': '167.3841292218327',\n",
       "  'orbital_period': '1338.23680580907',\n",
       "  'perihelion_distance': '1.139370951806989',\n",
       "  'perihelion_argument': '250.1729646080978',\n",
       "  'aphelion_distance': '3.613831997036431',\n",
       "  'perihelion_time': '2458492.539296262276',\n",
       "  'mean_anomaly': '136.646856932786',\n",
       "  'mean_motion': '.2690106851323308',\n",
       "  'equinox': 'J2000',\n",
       "  'orbit_class': {'orbit_class_type': 'AMO',\n",
       "   'orbit_class_range': '1.017 AU < q (perihelion) < 1.3 AU',\n",
       "   'orbit_class_description': 'Near-Earth asteroid orbits similar to that of 1221 Amor'}},\n",
       " 'is_sentry_object': False}"
      ]
     },
     "execution_count": 11,
     "metadata": {},
     "output_type": "execute_result"
    }
   ],
   "source": [
    "data[0]"
   ]
  },
  {
   "cell_type": "markdown",
   "metadata": {},
   "source": [
    "`links` y `page` son metadata que vamos a utilizar luego para automatizar el proceso de peticiones. `data` es una lista de diccionarios que contiene los datos que queremos utilizar. Vamos a convertirlos en un `DataFrame`:"
   ]
  },
  {
   "cell_type": "code",
   "execution_count": 14,
   "metadata": {},
   "outputs": [
    {
     "data": {
      "text/html": [
       "<div>\n",
       "<style scoped>\n",
       "    .dataframe tbody tr th:only-of-type {\n",
       "        vertical-align: middle;\n",
       "    }\n",
       "\n",
       "    .dataframe tbody tr th {\n",
       "        vertical-align: top;\n",
       "    }\n",
       "\n",
       "    .dataframe thead th {\n",
       "        text-align: right;\n",
       "    }\n",
       "</style>\n",
       "<table border=\"1\" class=\"dataframe\">\n",
       "  <thead>\n",
       "    <tr style=\"text-align: right;\">\n",
       "      <th></th>\n",
       "      <th>id</th>\n",
       "      <th>neo_reference_id</th>\n",
       "      <th>name</th>\n",
       "      <th>designation</th>\n",
       "      <th>nasa_jpl_url</th>\n",
       "      <th>absolute_magnitude_h</th>\n",
       "      <th>is_potentially_hazardous_asteroid</th>\n",
       "      <th>close_approach_data</th>\n",
       "      <th>is_sentry_object</th>\n",
       "      <th>links.self</th>\n",
       "      <th>...</th>\n",
       "      <th>orbital_data.perihelion_argument</th>\n",
       "      <th>orbital_data.aphelion_distance</th>\n",
       "      <th>orbital_data.perihelion_time</th>\n",
       "      <th>orbital_data.mean_anomaly</th>\n",
       "      <th>orbital_data.mean_motion</th>\n",
       "      <th>orbital_data.equinox</th>\n",
       "      <th>orbital_data.orbit_class.orbit_class_type</th>\n",
       "      <th>orbital_data.orbit_class.orbit_class_range</th>\n",
       "      <th>orbital_data.orbit_class.orbit_class_description</th>\n",
       "      <th>name_limited</th>\n",
       "    </tr>\n",
       "  </thead>\n",
       "  <tbody>\n",
       "    <tr>\n",
       "      <th>0</th>\n",
       "      <td>2021277</td>\n",
       "      <td>2021277</td>\n",
       "      <td>21277 (1996 TO5)</td>\n",
       "      <td>21277</td>\n",
       "      <td>http://ssd.jpl.nasa.gov/sbdb.cgi?sstr=2021277</td>\n",
       "      <td>16.1</td>\n",
       "      <td>False</td>\n",
       "      <td>[{'close_approach_date': '1945-06-07', 'close_...</td>\n",
       "      <td>False</td>\n",
       "      <td>http://www.neowsapp.com/rest/v1/neo/2021277?ap...</td>\n",
       "      <td>...</td>\n",
       "      <td>250.1729646080978</td>\n",
       "      <td>3.613831997036431</td>\n",
       "      <td>2458492.539296262276</td>\n",
       "      <td>136.646856932786</td>\n",
       "      <td>.2690106851323308</td>\n",
       "      <td>J2000</td>\n",
       "      <td>AMO</td>\n",
       "      <td>1.017 AU &lt; q (perihelion) &lt; 1.3 AU</td>\n",
       "      <td>Near-Earth asteroid orbits similar to that of ...</td>\n",
       "      <td>NaN</td>\n",
       "    </tr>\n",
       "    <tr>\n",
       "      <th>1</th>\n",
       "      <td>2162038</td>\n",
       "      <td>2162038</td>\n",
       "      <td>162038 (1996 DH)</td>\n",
       "      <td>162038</td>\n",
       "      <td>http://ssd.jpl.nasa.gov/sbdb.cgi?sstr=2162038</td>\n",
       "      <td>16.6</td>\n",
       "      <td>False</td>\n",
       "      <td>[]</td>\n",
       "      <td>False</td>\n",
       "      <td>http://www.neowsapp.com/rest/v1/neo/2162038?ap...</td>\n",
       "      <td>...</td>\n",
       "      <td>351.5495073253862</td>\n",
       "      <td>2.025868476312066</td>\n",
       "      <td>2459176.565253751041</td>\n",
       "      <td>273.1861379061811</td>\n",
       "      <td>.493077766590875</td>\n",
       "      <td>J2000</td>\n",
       "      <td>AMO</td>\n",
       "      <td>1.017 AU &lt; q (perihelion) &lt; 1.3 AU</td>\n",
       "      <td>Near-Earth asteroid orbits similar to that of ...</td>\n",
       "      <td>NaN</td>\n",
       "    </tr>\n",
       "    <tr>\n",
       "      <th>2</th>\n",
       "      <td>2189058</td>\n",
       "      <td>2189058</td>\n",
       "      <td>189058 (2000 UT16)</td>\n",
       "      <td>189058</td>\n",
       "      <td>http://ssd.jpl.nasa.gov/sbdb.cgi?sstr=2189058</td>\n",
       "      <td>16.5</td>\n",
       "      <td>False</td>\n",
       "      <td>[]</td>\n",
       "      <td>False</td>\n",
       "      <td>http://www.neowsapp.com/rest/v1/neo/2189058?ap...</td>\n",
       "      <td>...</td>\n",
       "      <td>91.24858681610077</td>\n",
       "      <td>3.884205451986184</td>\n",
       "      <td>2459278.734090121480</td>\n",
       "      <td>293.4095292372738</td>\n",
       "      <td>.2393325373380815</td>\n",
       "      <td>J2000</td>\n",
       "      <td>AMO</td>\n",
       "      <td>1.017 AU &lt; q (perihelion) &lt; 1.3 AU</td>\n",
       "      <td>Near-Earth asteroid orbits similar to that of ...</td>\n",
       "      <td>NaN</td>\n",
       "    </tr>\n",
       "    <tr>\n",
       "      <th>3</th>\n",
       "      <td>2276274</td>\n",
       "      <td>2276274</td>\n",
       "      <td>276274 (2002 SS41)</td>\n",
       "      <td>276274</td>\n",
       "      <td>http://ssd.jpl.nasa.gov/sbdb.cgi?sstr=2276274</td>\n",
       "      <td>17.2</td>\n",
       "      <td>False</td>\n",
       "      <td>[]</td>\n",
       "      <td>False</td>\n",
       "      <td>http://www.neowsapp.com/rest/v1/neo/2276274?ap...</td>\n",
       "      <td>...</td>\n",
       "      <td>101.7860072730271</td>\n",
       "      <td>2.910206355077709</td>\n",
       "      <td>2459093.016756074428</td>\n",
       "      <td>330.1368350661496</td>\n",
       "      <td>.322786554576405</td>\n",
       "      <td>J2000</td>\n",
       "      <td>AMO</td>\n",
       "      <td>1.017 AU &lt; q (perihelion) &lt; 1.3 AU</td>\n",
       "      <td>Near-Earth asteroid orbits similar to that of ...</td>\n",
       "      <td>NaN</td>\n",
       "    </tr>\n",
       "    <tr>\n",
       "      <th>4</th>\n",
       "      <td>2322913</td>\n",
       "      <td>2322913</td>\n",
       "      <td>322913 (2002 CM1)</td>\n",
       "      <td>322913</td>\n",
       "      <td>http://ssd.jpl.nasa.gov/sbdb.cgi?sstr=2322913</td>\n",
       "      <td>16.7</td>\n",
       "      <td>False</td>\n",
       "      <td>[]</td>\n",
       "      <td>False</td>\n",
       "      <td>http://www.neowsapp.com/rest/v1/neo/2322913?ap...</td>\n",
       "      <td>...</td>\n",
       "      <td>84.19797366483287</td>\n",
       "      <td>3.361558630853122</td>\n",
       "      <td>2458482.209254870466</td>\n",
       "      <td>146.5048635106909</td>\n",
       "      <td>.2826692640905165</td>\n",
       "      <td>J2000</td>\n",
       "      <td>AMO</td>\n",
       "      <td>1.017 AU &lt; q (perihelion) &lt; 1.3 AU</td>\n",
       "      <td>Near-Earth asteroid orbits similar to that of ...</td>\n",
       "      <td>NaN</td>\n",
       "    </tr>\n",
       "  </tbody>\n",
       "</table>\n",
       "<p>5 rows × 44 columns</p>\n",
       "</div>"
      ],
      "text/plain": [
       "        id neo_reference_id                name designation  \\\n",
       "0  2021277          2021277    21277 (1996 TO5)       21277   \n",
       "1  2162038          2162038    162038 (1996 DH)      162038   \n",
       "2  2189058          2189058  189058 (2000 UT16)      189058   \n",
       "3  2276274          2276274  276274 (2002 SS41)      276274   \n",
       "4  2322913          2322913   322913 (2002 CM1)      322913   \n",
       "\n",
       "                                    nasa_jpl_url  absolute_magnitude_h  \\\n",
       "0  http://ssd.jpl.nasa.gov/sbdb.cgi?sstr=2021277                  16.1   \n",
       "1  http://ssd.jpl.nasa.gov/sbdb.cgi?sstr=2162038                  16.6   \n",
       "2  http://ssd.jpl.nasa.gov/sbdb.cgi?sstr=2189058                  16.5   \n",
       "3  http://ssd.jpl.nasa.gov/sbdb.cgi?sstr=2276274                  17.2   \n",
       "4  http://ssd.jpl.nasa.gov/sbdb.cgi?sstr=2322913                  16.7   \n",
       "\n",
       "   is_potentially_hazardous_asteroid  \\\n",
       "0                              False   \n",
       "1                              False   \n",
       "2                              False   \n",
       "3                              False   \n",
       "4                              False   \n",
       "\n",
       "                                 close_approach_data  is_sentry_object  \\\n",
       "0  [{'close_approach_date': '1945-06-07', 'close_...             False   \n",
       "1                                                 []             False   \n",
       "2                                                 []             False   \n",
       "3                                                 []             False   \n",
       "4                                                 []             False   \n",
       "\n",
       "                                          links.self  ...  \\\n",
       "0  http://www.neowsapp.com/rest/v1/neo/2021277?ap...  ...   \n",
       "1  http://www.neowsapp.com/rest/v1/neo/2162038?ap...  ...   \n",
       "2  http://www.neowsapp.com/rest/v1/neo/2189058?ap...  ...   \n",
       "3  http://www.neowsapp.com/rest/v1/neo/2276274?ap...  ...   \n",
       "4  http://www.neowsapp.com/rest/v1/neo/2322913?ap...  ...   \n",
       "\n",
       "   orbital_data.perihelion_argument  orbital_data.aphelion_distance  \\\n",
       "0                 250.1729646080978               3.613831997036431   \n",
       "1                 351.5495073253862               2.025868476312066   \n",
       "2                 91.24858681610077               3.884205451986184   \n",
       "3                 101.7860072730271               2.910206355077709   \n",
       "4                 84.19797366483287               3.361558630853122   \n",
       "\n",
       "   orbital_data.perihelion_time  orbital_data.mean_anomaly  \\\n",
       "0          2458492.539296262276           136.646856932786   \n",
       "1          2459176.565253751041          273.1861379061811   \n",
       "2          2459278.734090121480          293.4095292372738   \n",
       "3          2459093.016756074428          330.1368350661496   \n",
       "4          2458482.209254870466          146.5048635106909   \n",
       "\n",
       "   orbital_data.mean_motion  orbital_data.equinox  \\\n",
       "0         .2690106851323308                 J2000   \n",
       "1          .493077766590875                 J2000   \n",
       "2         .2393325373380815                 J2000   \n",
       "3          .322786554576405                 J2000   \n",
       "4         .2826692640905165                 J2000   \n",
       "\n",
       "   orbital_data.orbit_class.orbit_class_type  \\\n",
       "0                                        AMO   \n",
       "1                                        AMO   \n",
       "2                                        AMO   \n",
       "3                                        AMO   \n",
       "4                                        AMO   \n",
       "\n",
       "   orbital_data.orbit_class.orbit_class_range  \\\n",
       "0          1.017 AU < q (perihelion) < 1.3 AU   \n",
       "1          1.017 AU < q (perihelion) < 1.3 AU   \n",
       "2          1.017 AU < q (perihelion) < 1.3 AU   \n",
       "3          1.017 AU < q (perihelion) < 1.3 AU   \n",
       "4          1.017 AU < q (perihelion) < 1.3 AU   \n",
       "\n",
       "    orbital_data.orbit_class.orbit_class_description name_limited  \n",
       "0  Near-Earth asteroid orbits similar to that of ...          NaN  \n",
       "1  Near-Earth asteroid orbits similar to that of ...          NaN  \n",
       "2  Near-Earth asteroid orbits similar to that of ...          NaN  \n",
       "3  Near-Earth asteroid orbits similar to that of ...          NaN  \n",
       "4  Near-Earth asteroid orbits similar to that of ...          NaN  \n",
       "\n",
       "[5 rows x 44 columns]"
      ]
     },
     "execution_count": 14,
     "metadata": {},
     "output_type": "execute_result"
    }
   ],
   "source": [
    "normalized = pd.json_normalize(data)\n",
    "\n",
    "df = pd.DataFrame.from_dict(normalized)\n",
    "\n",
    "df.head()"
   ]
  },
  {
   "cell_type": "markdown",
   "metadata": {},
   "source": [
    "¡Listo! Ahora tenemos un `DataFrame` con los datos de nuestra primera petición. En esta sesión vamos a aprender a automatizar este proceso. Pero antes, practiquemos un poco el uso de la librería `requests`."
   ]
  },
  {
   "cell_type": "code",
   "execution_count": null,
   "metadata": {},
   "outputs": [],
   "source": []
  }
 ],
 "metadata": {
  "kernelspec": {
   "display_name": "Python (data_science)",
   "language": "python",
   "name": "data_science"
  },
  "language_info": {
   "codemirror_mode": {
    "name": "ipython",
    "version": 3
   },
   "file_extension": ".py",
   "mimetype": "text/x-python",
   "name": "python",
   "nbconvert_exporter": "python",
   "pygments_lexer": "ipython3",
   "version": "3.8.1"
  }
 },
 "nbformat": 4,
 "nbformat_minor": 4
}
