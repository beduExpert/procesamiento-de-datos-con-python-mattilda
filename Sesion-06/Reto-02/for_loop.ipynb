{
 "cells": [
  {
   "cell_type": "markdown",
   "metadata": {},
   "source": [
    "## Reto 2: Automatizando con `for loops`\n",
    "\n",
    "### 1. Objetivos:\n",
    "    - Automatizar un proceso sencillo usando `for loops`\n",
    " \n",
    "---\n",
    "    \n",
    "### 2. Desarrollo:"
   ]
  },
  {
   "cell_type": "markdown",
   "metadata": {},
   "source": [
    "### a) Potencias de 2\n",
    "\n",
    "Las potencias de 2 son sumamente importantes en el mundo computacional. Dado que las computadoras trabajan con lenguaje binario, gran parte del funcionamiento interno de las computadoras funciona con potencias de 2. He aquí una pequeña muestra de las primeras potencias de 2:\n",
    "\n",
    "- 2<sup>0</sup> = 1\n",
    "- 2<sup>1</sup> = 2\n",
    "- 2<sup>2</sup> = 4\n",
    "- 2<sup>3</sup> = 8\n",
    "- 2<sup>4</sup> = 16\n",
    "- 2<sup>5</sup> = 32\n",
    "- 2<sup>6</sup> = 64\n",
    "- 2<sup>7</sup> = 128\n",
    "- 2<sup>8</sup> = 256"
   ]
  },
  {
   "cell_type": "markdown",
   "metadata": {},
   "source": [
    "Tu reto es completar la función `potencia_de_dos`. Esta función recibe el exponente (el número pequeño al lado del 2) y regresa el resultado de 2 elevado a esa potencia. El detalle es que no puedes usar ningún operador o función que compute exponentes (como `**` o `np.power`), sino que tienes que realizar el cálculo utilizando 1 `bloque if` y 1 `for loop`. Completa el código debajo.\n",
    "\n",
    "> **Nota**: Tu función sólo debe computar exponentes positivos"
   ]
  },
  {
   "cell_type": "code",
   "execution_count": null,
   "metadata": {},
   "outputs": [],
   "source": [
    "def potencia_de_dos(exponente):\n",
    "    \n",
    "    resultado = 2\n",
    "    \n",
    "    ## Tu código va aquí\n",
    "        \n",
    "    return resultado"
   ]
  },
  {
   "cell_type": "markdown",
   "metadata": {},
   "source": [
    "Pídele a tu experta la función de verificación `revisar_potencia_de_dos` (encontrada en el archivo `helpers.py` de la carpeta donde se encuentra este Reto), pégala debajo y corre la celda para verificar tu resultado:"
   ]
  },
  {
   "cell_type": "code",
   "execution_count": null,
   "metadata": {},
   "outputs": [],
   "source": [
    "# Pega aquí la función de verificación\n",
    "\n",
    "revisar_potencia_de_dos(potencia_de_dos)"
   ]
  },
  {
   "cell_type": "markdown",
   "metadata": {},
   "source": [
    "<details><summary>Solución</summary>\n",
    "\n",
    "```python\n",
    "def potencia_de_dos(exponente):\n",
    "    \n",
    "    resultado = 2\n",
    "    \n",
    "    if exponente == 0:\n",
    "        return 1\n",
    "    \n",
    "    for i in range(0, exponente - 1):\n",
    "        resultado = resultado * 2\n",
    "        \n",
    "    return resultado\n",
    "```\n",
    "    \n",
    "</details>"
   ]
  },
  {
   "cell_type": "code",
   "execution_count": null,
   "metadata": {},
   "outputs": [],
   "source": []
  }
 ],
 "metadata": {
  "kernelspec": {
   "display_name": "Python (data_science)",
   "language": "python",
   "name": "data_science"
  },
  "language_info": {
   "codemirror_mode": {
    "name": "ipython",
    "version": 3
   },
   "file_extension": ".py",
   "mimetype": "text/x-python",
   "name": "python",
   "nbconvert_exporter": "python",
   "pygments_lexer": "ipython3",
   "version": "3.8.1"
  }
 },
 "nbformat": 4,
 "nbformat_minor": 4
}
