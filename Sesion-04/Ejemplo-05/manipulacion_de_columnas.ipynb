{
 "cells": [
  {
   "cell_type": "markdown",
   "metadata": {},
   "source": [
    "## Ejemplo 5: Manipulación de columnas\n",
    "\n",
    "### 1. Objetivos:\n",
    "    - Aprender a crear nuevas columnas en un `DataFrame`\n",
    "    - Aprender a reasignar columnas\n",
    "    - Aprender a eliminar columnas\n",
    " \n",
    "---\n",
    "    \n",
    "### 2. Desarrollo:"
   ]
  },
  {
   "cell_type": "code",
   "execution_count": 6,
   "metadata": {},
   "outputs": [],
   "source": [
    "import pandas as pd"
   ]
  },
  {
   "cell_type": "markdown",
   "metadata": {},
   "source": [
    "Tenemos aquí un `DataFrame`:"
   ]
  },
  {
   "cell_type": "code",
   "execution_count": 7,
   "metadata": {},
   "outputs": [],
   "source": [
    "datos = {\n",
    "    \"Nombre\": [\"Pepinillo Hernández\", \"Lúpulo de Dios\", \"Juan Juon\", \"Jimmy el Patatas\", \"Lorenzo Retaguardias\"],\n",
    "    \"Cereal favorito\": [\"Korn Floks\", \"Verdurinis\", \"Zumbaritas\", \"Diabetukis, Papá\", \"Fibra Máxima 3000\"],\n",
    "    \"Hora del desayuno\": [\"11:00\", \"07:30\", \"07:00\", \"08:30\", \"09:30\"]\n",
    "}\n",
    "\n",
    "df = pd.DataFrame(datos)"
   ]
  },
  {
   "cell_type": "code",
   "execution_count": 8,
   "metadata": {},
   "outputs": [
    {
     "data": {
      "text/html": [
       "<div>\n",
       "<style scoped>\n",
       "    .dataframe tbody tr th:only-of-type {\n",
       "        vertical-align: middle;\n",
       "    }\n",
       "\n",
       "    .dataframe tbody tr th {\n",
       "        vertical-align: top;\n",
       "    }\n",
       "\n",
       "    .dataframe thead th {\n",
       "        text-align: right;\n",
       "    }\n",
       "</style>\n",
       "<table border=\"1\" class=\"dataframe\">\n",
       "  <thead>\n",
       "    <tr style=\"text-align: right;\">\n",
       "      <th></th>\n",
       "      <th>Nombre</th>\n",
       "      <th>Cereal favorito</th>\n",
       "      <th>Hora del desayuno</th>\n",
       "    </tr>\n",
       "  </thead>\n",
       "  <tbody>\n",
       "    <tr>\n",
       "      <th>0</th>\n",
       "      <td>Pepinillo Hernández</td>\n",
       "      <td>Korn Floks</td>\n",
       "      <td>11:00</td>\n",
       "    </tr>\n",
       "    <tr>\n",
       "      <th>1</th>\n",
       "      <td>Lúpulo de Dios</td>\n",
       "      <td>Verdurinis</td>\n",
       "      <td>07:30</td>\n",
       "    </tr>\n",
       "    <tr>\n",
       "      <th>2</th>\n",
       "      <td>Juan Juon</td>\n",
       "      <td>Zumbaritas</td>\n",
       "      <td>07:00</td>\n",
       "    </tr>\n",
       "    <tr>\n",
       "      <th>3</th>\n",
       "      <td>Jimmy el Patatas</td>\n",
       "      <td>Diabetukis, Papá</td>\n",
       "      <td>08:30</td>\n",
       "    </tr>\n",
       "    <tr>\n",
       "      <th>4</th>\n",
       "      <td>Lorenzo Retaguardias</td>\n",
       "      <td>Fibra Máxima 3000</td>\n",
       "      <td>09:30</td>\n",
       "    </tr>\n",
       "  </tbody>\n",
       "</table>\n",
       "</div>"
      ],
      "text/plain": [
       "                 Nombre    Cereal favorito Hora del desayuno\n",
       "0   Pepinillo Hernández         Korn Floks             11:00\n",
       "1        Lúpulo de Dios         Verdurinis             07:30\n",
       "2             Juan Juon         Zumbaritas             07:00\n",
       "3      Jimmy el Patatas   Diabetukis, Papá             08:30\n",
       "4  Lorenzo Retaguardias  Fibra Máxima 3000             09:30"
      ]
     },
     "execution_count": 8,
     "metadata": {},
     "output_type": "execute_result"
    }
   ],
   "source": [
    "df"
   ]
  },
  {
   "cell_type": "markdown",
   "metadata": {},
   "source": [
    "Podemos agregar nuevas columnas a nuestros `DataFrames` con una sintaxis muy parecida a la de los `diccionarios`:"
   ]
  },
  {
   "cell_type": "code",
   "execution_count": 9,
   "metadata": {},
   "outputs": [],
   "source": [
    "df[\"Fruta con la que acompaña el cereal\"] = pd.Series(['Pera', 'Manzana', 'Plátano', 'Guayaba', 'Pizza'])"
   ]
  },
  {
   "cell_type": "code",
   "execution_count": 10,
   "metadata": {},
   "outputs": [
    {
     "data": {
      "text/html": [
       "<div>\n",
       "<style scoped>\n",
       "    .dataframe tbody tr th:only-of-type {\n",
       "        vertical-align: middle;\n",
       "    }\n",
       "\n",
       "    .dataframe tbody tr th {\n",
       "        vertical-align: top;\n",
       "    }\n",
       "\n",
       "    .dataframe thead th {\n",
       "        text-align: right;\n",
       "    }\n",
       "</style>\n",
       "<table border=\"1\" class=\"dataframe\">\n",
       "  <thead>\n",
       "    <tr style=\"text-align: right;\">\n",
       "      <th></th>\n",
       "      <th>Nombre</th>\n",
       "      <th>Cereal favorito</th>\n",
       "      <th>Hora del desayuno</th>\n",
       "      <th>Fruta con la que acompaña el cereal</th>\n",
       "    </tr>\n",
       "  </thead>\n",
       "  <tbody>\n",
       "    <tr>\n",
       "      <th>0</th>\n",
       "      <td>Pepinillo Hernández</td>\n",
       "      <td>Korn Floks</td>\n",
       "      <td>11:00</td>\n",
       "      <td>Pera</td>\n",
       "    </tr>\n",
       "    <tr>\n",
       "      <th>1</th>\n",
       "      <td>Lúpulo de Dios</td>\n",
       "      <td>Verdurinis</td>\n",
       "      <td>07:30</td>\n",
       "      <td>Manzana</td>\n",
       "    </tr>\n",
       "    <tr>\n",
       "      <th>2</th>\n",
       "      <td>Juan Juon</td>\n",
       "      <td>Zumbaritas</td>\n",
       "      <td>07:00</td>\n",
       "      <td>Plátano</td>\n",
       "    </tr>\n",
       "    <tr>\n",
       "      <th>3</th>\n",
       "      <td>Jimmy el Patatas</td>\n",
       "      <td>Diabetukis, Papá</td>\n",
       "      <td>08:30</td>\n",
       "      <td>Guayaba</td>\n",
       "    </tr>\n",
       "    <tr>\n",
       "      <th>4</th>\n",
       "      <td>Lorenzo Retaguardias</td>\n",
       "      <td>Fibra Máxima 3000</td>\n",
       "      <td>09:30</td>\n",
       "      <td>Pizza</td>\n",
       "    </tr>\n",
       "  </tbody>\n",
       "</table>\n",
       "</div>"
      ],
      "text/plain": [
       "                 Nombre    Cereal favorito Hora del desayuno  \\\n",
       "0   Pepinillo Hernández         Korn Floks             11:00   \n",
       "1        Lúpulo de Dios         Verdurinis             07:30   \n",
       "2             Juan Juon         Zumbaritas             07:00   \n",
       "3      Jimmy el Patatas   Diabetukis, Papá             08:30   \n",
       "4  Lorenzo Retaguardias  Fibra Máxima 3000             09:30   \n",
       "\n",
       "  Fruta con la que acompaña el cereal  \n",
       "0                                Pera  \n",
       "1                             Manzana  \n",
       "2                             Plátano  \n",
       "3                             Guayaba  \n",
       "4                               Pizza  "
      ]
     },
     "execution_count": 10,
     "metadata": {},
     "output_type": "execute_result"
    }
   ],
   "source": [
    "df"
   ]
  },
  {
   "cell_type": "markdown",
   "metadata": {},
   "source": [
    "Podemos usar la misma sintaxis para asignar una nueva `Serie` a una columna existente:"
   ]
  },
  {
   "cell_type": "code",
   "execution_count": 11,
   "metadata": {},
   "outputs": [
    {
     "data": {
      "text/html": [
       "<div>\n",
       "<style scoped>\n",
       "    .dataframe tbody tr th:only-of-type {\n",
       "        vertical-align: middle;\n",
       "    }\n",
       "\n",
       "    .dataframe tbody tr th {\n",
       "        vertical-align: top;\n",
       "    }\n",
       "\n",
       "    .dataframe thead th {\n",
       "        text-align: right;\n",
       "    }\n",
       "</style>\n",
       "<table border=\"1\" class=\"dataframe\">\n",
       "  <thead>\n",
       "    <tr style=\"text-align: right;\">\n",
       "      <th></th>\n",
       "      <th>Nombre</th>\n",
       "      <th>Cereal favorito</th>\n",
       "      <th>Hora del desayuno</th>\n",
       "      <th>Fruta con la que acompaña el cereal</th>\n",
       "    </tr>\n",
       "  </thead>\n",
       "  <tbody>\n",
       "    <tr>\n",
       "      <th>0</th>\n",
       "      <td>Pepinillo Hernández</td>\n",
       "      <td>Korn Floks</td>\n",
       "      <td>10:30</td>\n",
       "      <td>Pera</td>\n",
       "    </tr>\n",
       "    <tr>\n",
       "      <th>1</th>\n",
       "      <td>Lúpulo de Dios</td>\n",
       "      <td>Verdurinis</td>\n",
       "      <td>06:30</td>\n",
       "      <td>Manzana</td>\n",
       "    </tr>\n",
       "    <tr>\n",
       "      <th>2</th>\n",
       "      <td>Juan Juon</td>\n",
       "      <td>Zumbaritas</td>\n",
       "      <td>06:00</td>\n",
       "      <td>Plátano</td>\n",
       "    </tr>\n",
       "    <tr>\n",
       "      <th>3</th>\n",
       "      <td>Jimmy el Patatas</td>\n",
       "      <td>Diabetukis, Papá</td>\n",
       "      <td>07:00</td>\n",
       "      <td>Guayaba</td>\n",
       "    </tr>\n",
       "    <tr>\n",
       "      <th>4</th>\n",
       "      <td>Lorenzo Retaguardias</td>\n",
       "      <td>Fibra Máxima 3000</td>\n",
       "      <td>08:00</td>\n",
       "      <td>Pizza</td>\n",
       "    </tr>\n",
       "  </tbody>\n",
       "</table>\n",
       "</div>"
      ],
      "text/plain": [
       "                 Nombre    Cereal favorito Hora del desayuno  \\\n",
       "0   Pepinillo Hernández         Korn Floks             10:30   \n",
       "1        Lúpulo de Dios         Verdurinis             06:30   \n",
       "2             Juan Juon         Zumbaritas             06:00   \n",
       "3      Jimmy el Patatas   Diabetukis, Papá             07:00   \n",
       "4  Lorenzo Retaguardias  Fibra Máxima 3000             08:00   \n",
       "\n",
       "  Fruta con la que acompaña el cereal  \n",
       "0                                Pera  \n",
       "1                             Manzana  \n",
       "2                             Plátano  \n",
       "3                             Guayaba  \n",
       "4                               Pizza  "
      ]
     },
     "execution_count": 11,
     "metadata": {},
     "output_type": "execute_result"
    }
   ],
   "source": [
    "df[\"Hora del desayuno\"] = pd.Series([\"10:30\", \"06:30\", \"06:00\", \"07:00\", \"08:00\"])\n",
    "\n",
    "df"
   ]
  },
  {
   "cell_type": "markdown",
   "metadata": {},
   "source": [
    "También podemos eliminar una columna usando el siguiente método:"
   ]
  },
  {
   "cell_type": "code",
   "execution_count": 12,
   "metadata": {},
   "outputs": [
    {
     "data": {
      "text/html": [
       "<div>\n",
       "<style scoped>\n",
       "    .dataframe tbody tr th:only-of-type {\n",
       "        vertical-align: middle;\n",
       "    }\n",
       "\n",
       "    .dataframe tbody tr th {\n",
       "        vertical-align: top;\n",
       "    }\n",
       "\n",
       "    .dataframe thead th {\n",
       "        text-align: right;\n",
       "    }\n",
       "</style>\n",
       "<table border=\"1\" class=\"dataframe\">\n",
       "  <thead>\n",
       "    <tr style=\"text-align: right;\">\n",
       "      <th></th>\n",
       "      <th>Nombre</th>\n",
       "      <th>Cereal favorito</th>\n",
       "      <th>Hora del desayuno</th>\n",
       "    </tr>\n",
       "  </thead>\n",
       "  <tbody>\n",
       "    <tr>\n",
       "      <th>0</th>\n",
       "      <td>Pepinillo Hernández</td>\n",
       "      <td>Korn Floks</td>\n",
       "      <td>10:30</td>\n",
       "    </tr>\n",
       "    <tr>\n",
       "      <th>1</th>\n",
       "      <td>Lúpulo de Dios</td>\n",
       "      <td>Verdurinis</td>\n",
       "      <td>06:30</td>\n",
       "    </tr>\n",
       "    <tr>\n",
       "      <th>2</th>\n",
       "      <td>Juan Juon</td>\n",
       "      <td>Zumbaritas</td>\n",
       "      <td>06:00</td>\n",
       "    </tr>\n",
       "    <tr>\n",
       "      <th>3</th>\n",
       "      <td>Jimmy el Patatas</td>\n",
       "      <td>Diabetukis, Papá</td>\n",
       "      <td>07:00</td>\n",
       "    </tr>\n",
       "    <tr>\n",
       "      <th>4</th>\n",
       "      <td>Lorenzo Retaguardias</td>\n",
       "      <td>Fibra Máxima 3000</td>\n",
       "      <td>08:00</td>\n",
       "    </tr>\n",
       "  </tbody>\n",
       "</table>\n",
       "</div>"
      ],
      "text/plain": [
       "                 Nombre    Cereal favorito Hora del desayuno\n",
       "0   Pepinillo Hernández         Korn Floks             10:30\n",
       "1        Lúpulo de Dios         Verdurinis             06:30\n",
       "2             Juan Juon         Zumbaritas             06:00\n",
       "3      Jimmy el Patatas   Diabetukis, Papá             07:00\n",
       "4  Lorenzo Retaguardias  Fibra Máxima 3000             08:00"
      ]
     },
     "execution_count": 12,
     "metadata": {},
     "output_type": "execute_result"
    }
   ],
   "source": [
    "df.drop(columns=['Fruta con la que acompaña el cereal'])"
   ]
  },
  {
   "cell_type": "markdown",
   "metadata": {},
   "source": [
    "Recuerda que estos métodos sólo regresan \"vistas\". Para que el cambio permanezca, tenemos que asignar el resultado de la operación a la variable `df` o a alguna otra variable:"
   ]
  },
  {
   "cell_type": "code",
   "execution_count": 13,
   "metadata": {},
   "outputs": [
    {
     "data": {
      "text/html": [
       "<div>\n",
       "<style scoped>\n",
       "    .dataframe tbody tr th:only-of-type {\n",
       "        vertical-align: middle;\n",
       "    }\n",
       "\n",
       "    .dataframe tbody tr th {\n",
       "        vertical-align: top;\n",
       "    }\n",
       "\n",
       "    .dataframe thead th {\n",
       "        text-align: right;\n",
       "    }\n",
       "</style>\n",
       "<table border=\"1\" class=\"dataframe\">\n",
       "  <thead>\n",
       "    <tr style=\"text-align: right;\">\n",
       "      <th></th>\n",
       "      <th>Nombre</th>\n",
       "      <th>Cereal favorito</th>\n",
       "      <th>Hora del desayuno</th>\n",
       "      <th>Fruta con la que acompaña el cereal</th>\n",
       "    </tr>\n",
       "  </thead>\n",
       "  <tbody>\n",
       "    <tr>\n",
       "      <th>0</th>\n",
       "      <td>Pepinillo Hernández</td>\n",
       "      <td>Korn Floks</td>\n",
       "      <td>10:30</td>\n",
       "      <td>Pera</td>\n",
       "    </tr>\n",
       "    <tr>\n",
       "      <th>1</th>\n",
       "      <td>Lúpulo de Dios</td>\n",
       "      <td>Verdurinis</td>\n",
       "      <td>06:30</td>\n",
       "      <td>Manzana</td>\n",
       "    </tr>\n",
       "    <tr>\n",
       "      <th>2</th>\n",
       "      <td>Juan Juon</td>\n",
       "      <td>Zumbaritas</td>\n",
       "      <td>06:00</td>\n",
       "      <td>Plátano</td>\n",
       "    </tr>\n",
       "    <tr>\n",
       "      <th>3</th>\n",
       "      <td>Jimmy el Patatas</td>\n",
       "      <td>Diabetukis, Papá</td>\n",
       "      <td>07:00</td>\n",
       "      <td>Guayaba</td>\n",
       "    </tr>\n",
       "    <tr>\n",
       "      <th>4</th>\n",
       "      <td>Lorenzo Retaguardias</td>\n",
       "      <td>Fibra Máxima 3000</td>\n",
       "      <td>08:00</td>\n",
       "      <td>Pizza</td>\n",
       "    </tr>\n",
       "  </tbody>\n",
       "</table>\n",
       "</div>"
      ],
      "text/plain": [
       "                 Nombre    Cereal favorito Hora del desayuno  \\\n",
       "0   Pepinillo Hernández         Korn Floks             10:30   \n",
       "1        Lúpulo de Dios         Verdurinis             06:30   \n",
       "2             Juan Juon         Zumbaritas             06:00   \n",
       "3      Jimmy el Patatas   Diabetukis, Papá             07:00   \n",
       "4  Lorenzo Retaguardias  Fibra Máxima 3000             08:00   \n",
       "\n",
       "  Fruta con la que acompaña el cereal  \n",
       "0                                Pera  \n",
       "1                             Manzana  \n",
       "2                             Plátano  \n",
       "3                             Guayaba  \n",
       "4                               Pizza  "
      ]
     },
     "execution_count": 13,
     "metadata": {},
     "output_type": "execute_result"
    }
   ],
   "source": [
    "df_dropped = df.drop(columns=['Fruta con la que acompaña el cereal'])\n",
    "\n",
    "df"
   ]
  },
  {
   "cell_type": "code",
   "execution_count": 14,
   "metadata": {},
   "outputs": [
    {
     "data": {
      "text/html": [
       "<div>\n",
       "<style scoped>\n",
       "    .dataframe tbody tr th:only-of-type {\n",
       "        vertical-align: middle;\n",
       "    }\n",
       "\n",
       "    .dataframe tbody tr th {\n",
       "        vertical-align: top;\n",
       "    }\n",
       "\n",
       "    .dataframe thead th {\n",
       "        text-align: right;\n",
       "    }\n",
       "</style>\n",
       "<table border=\"1\" class=\"dataframe\">\n",
       "  <thead>\n",
       "    <tr style=\"text-align: right;\">\n",
       "      <th></th>\n",
       "      <th>Nombre</th>\n",
       "      <th>Cereal favorito</th>\n",
       "      <th>Hora del desayuno</th>\n",
       "    </tr>\n",
       "  </thead>\n",
       "  <tbody>\n",
       "    <tr>\n",
       "      <th>0</th>\n",
       "      <td>Pepinillo Hernández</td>\n",
       "      <td>Korn Floks</td>\n",
       "      <td>10:30</td>\n",
       "    </tr>\n",
       "    <tr>\n",
       "      <th>1</th>\n",
       "      <td>Lúpulo de Dios</td>\n",
       "      <td>Verdurinis</td>\n",
       "      <td>06:30</td>\n",
       "    </tr>\n",
       "    <tr>\n",
       "      <th>2</th>\n",
       "      <td>Juan Juon</td>\n",
       "      <td>Zumbaritas</td>\n",
       "      <td>06:00</td>\n",
       "    </tr>\n",
       "    <tr>\n",
       "      <th>3</th>\n",
       "      <td>Jimmy el Patatas</td>\n",
       "      <td>Diabetukis, Papá</td>\n",
       "      <td>07:00</td>\n",
       "    </tr>\n",
       "    <tr>\n",
       "      <th>4</th>\n",
       "      <td>Lorenzo Retaguardias</td>\n",
       "      <td>Fibra Máxima 3000</td>\n",
       "      <td>08:00</td>\n",
       "    </tr>\n",
       "  </tbody>\n",
       "</table>\n",
       "</div>"
      ],
      "text/plain": [
       "                 Nombre    Cereal favorito Hora del desayuno\n",
       "0   Pepinillo Hernández         Korn Floks             10:30\n",
       "1        Lúpulo de Dios         Verdurinis             06:30\n",
       "2             Juan Juon         Zumbaritas             06:00\n",
       "3      Jimmy el Patatas   Diabetukis, Papá             07:00\n",
       "4  Lorenzo Retaguardias  Fibra Máxima 3000             08:00"
      ]
     },
     "execution_count": 14,
     "metadata": {},
     "output_type": "execute_result"
    }
   ],
   "source": [
    "df_dropped"
   ]
  }
 ],
 "metadata": {
  "kernelspec": {
   "display_name": "Python (data_science)",
   "language": "python",
   "name": "data_science"
  },
  "language_info": {
   "codemirror_mode": {
    "name": "ipython",
    "version": 3
   },
   "file_extension": ".py",
   "mimetype": "text/x-python",
   "name": "python",
   "nbconvert_exporter": "python",
   "pygments_lexer": "ipython3",
   "version": "3.8.5"
  }
 },
 "nbformat": 4,
 "nbformat_minor": 4
}
