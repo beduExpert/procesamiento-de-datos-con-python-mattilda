{
 "cells": [
  {
   "cell_type": "markdown",
   "metadata": {},
   "source": [
    "## Ejemplo 7: Análisis Exploratorio de Datos\n",
    "\n",
    "### 1. Objetivos:\n",
    "    - Aprender las herramientas básicas para darle un primer vistazo a los datos que tenemos en nuestros `DataFrames`\n",
    " \n",
    "---\n",
    "    \n",
    "### 2. Desarrollo:"
   ]
  },
  {
   "cell_type": "code",
   "execution_count": 1,
   "metadata": {},
   "outputs": [],
   "source": [
    "import pandas as pd\n",
    "import json"
   ]
  },
  {
   "cell_type": "markdown",
   "metadata": {},
   "source": [
    "Ok, tenemos aquí nuestro conjunto de datos del Ejemplo pasado:"
   ]
  },
  {
   "cell_type": "code",
   "execution_count": 2,
   "metadata": {},
   "outputs": [],
   "source": [
    "f = open('../../Datasets/zomato_reviews-clean.json', 'r')\n",
    "json_data = json.load(f)\n",
    "f.close()"
   ]
  },
  {
   "cell_type": "code",
   "execution_count": 3,
   "metadata": {},
   "outputs": [],
   "source": [
    "df = pd.DataFrame.from_dict(json_data)"
   ]
  },
  {
   "cell_type": "code",
   "execution_count": 4,
   "metadata": {},
   "outputs": [
    {
     "data": {
      "text/html": [
       "<div>\n",
       "<style scoped>\n",
       "    .dataframe tbody tr th:only-of-type {\n",
       "        vertical-align: middle;\n",
       "    }\n",
       "\n",
       "    .dataframe tbody tr th {\n",
       "        vertical-align: top;\n",
       "    }\n",
       "\n",
       "    .dataframe thead th {\n",
       "        text-align: right;\n",
       "    }\n",
       "</style>\n",
       "<table border=\"1\" class=\"dataframe\">\n",
       "  <thead>\n",
       "    <tr style=\"text-align: right;\">\n",
       "      <th></th>\n",
       "      <th>has_online_delivery</th>\n",
       "      <th>price_range</th>\n",
       "      <th>currency</th>\n",
       "      <th>name</th>\n",
       "      <th>cuisines</th>\n",
       "      <th>location.address</th>\n",
       "      <th>location.city</th>\n",
       "      <th>user_rating.rating_text</th>\n",
       "    </tr>\n",
       "  </thead>\n",
       "  <tbody>\n",
       "    <tr>\n",
       "      <th>0</th>\n",
       "      <td>1</td>\n",
       "      <td>3</td>\n",
       "      <td>Rs.</td>\n",
       "      <td>Hauz Khas Social</td>\n",
       "      <td>Continental, American, Asian, North Indian</td>\n",
       "      <td>9-A &amp; 12, Hauz Khas Village, New Delhi</td>\n",
       "      <td>New Delhi</td>\n",
       "      <td>Very Good</td>\n",
       "    </tr>\n",
       "    <tr>\n",
       "      <th>1</th>\n",
       "      <td>0</td>\n",
       "      <td>3</td>\n",
       "      <td>Rs.</td>\n",
       "      <td>Qubitos - The Terrace Cafe</td>\n",
       "      <td>Thai, European, Mexican, North Indian, Chinese...</td>\n",
       "      <td>C-7, Vishal Enclave, Opposite Metro Pillar 417...</td>\n",
       "      <td>New Delhi</td>\n",
       "      <td>Excellent</td>\n",
       "    </tr>\n",
       "    <tr>\n",
       "      <th>2</th>\n",
       "      <td>1</td>\n",
       "      <td>2</td>\n",
       "      <td>Rs.</td>\n",
       "      <td>The Hudson Cafe</td>\n",
       "      <td>Cafe, Italian, Continental, Chinese</td>\n",
       "      <td>2524, 1st Floor, Hudson Lane, Delhi University...</td>\n",
       "      <td>New Delhi</td>\n",
       "      <td>Very Good</td>\n",
       "    </tr>\n",
       "    <tr>\n",
       "      <th>3</th>\n",
       "      <td>0</td>\n",
       "      <td>3</td>\n",
       "      <td>Rs.</td>\n",
       "      <td>Summer House Cafe</td>\n",
       "      <td>Italian, Continental</td>\n",
       "      <td>1st Floor, DDA Shopping Complex, Aurobindo Pla...</td>\n",
       "      <td>New Delhi</td>\n",
       "      <td>Very Good</td>\n",
       "    </tr>\n",
       "    <tr>\n",
       "      <th>4</th>\n",
       "      <td>0</td>\n",
       "      <td>3</td>\n",
       "      <td>Rs.</td>\n",
       "      <td>38 Barracks</td>\n",
       "      <td>North Indian, Italian, Asian, American</td>\n",
       "      <td>M-38, Outer Circle, Connaught Place, New Delhi</td>\n",
       "      <td>New Delhi</td>\n",
       "      <td>Very Good</td>\n",
       "    </tr>\n",
       "    <tr>\n",
       "      <th>...</th>\n",
       "      <td>...</td>\n",
       "      <td>...</td>\n",
       "      <td>...</td>\n",
       "      <td>...</td>\n",
       "      <td>...</td>\n",
       "      <td>...</td>\n",
       "      <td>...</td>\n",
       "      <td>...</td>\n",
       "    </tr>\n",
       "    <tr>\n",
       "      <th>1175</th>\n",
       "      <td>0</td>\n",
       "      <td>3</td>\n",
       "      <td>£</td>\n",
       "      <td>The Boozy Cow</td>\n",
       "      <td>Burger, Grill</td>\n",
       "      <td>17 Frederick Street, New Town, Edinburgh EH2 2EY</td>\n",
       "      <td>Edinburgh</td>\n",
       "      <td>Very Good</td>\n",
       "    </tr>\n",
       "    <tr>\n",
       "      <th>1176</th>\n",
       "      <td>0</td>\n",
       "      <td>3</td>\n",
       "      <td>£</td>\n",
       "      <td>La Favorita</td>\n",
       "      <td>Italian</td>\n",
       "      <td>325-331 Leith Walk, Leith, Edinburgh EH6 8SA</td>\n",
       "      <td>Edinburgh</td>\n",
       "      <td>Excellent</td>\n",
       "    </tr>\n",
       "    <tr>\n",
       "      <th>1177</th>\n",
       "      <td>0</td>\n",
       "      <td>3</td>\n",
       "      <td>£</td>\n",
       "      <td>Roseleaf Bar Cafe</td>\n",
       "      <td>Scottish, Cafe</td>\n",
       "      <td>23-24 Sandport Place, Leith, Edinburgh EH6 6EW</td>\n",
       "      <td>Edinburgh</td>\n",
       "      <td>Excellent</td>\n",
       "    </tr>\n",
       "    <tr>\n",
       "      <th>1178</th>\n",
       "      <td>0</td>\n",
       "      <td>3</td>\n",
       "      <td>£</td>\n",
       "      <td>Civerinos</td>\n",
       "      <td>Pizza, Italian</td>\n",
       "      <td>5 Hunter Square, Royal Mile, Old Town, Edinbur...</td>\n",
       "      <td>Edinburgh</td>\n",
       "      <td>Good</td>\n",
       "    </tr>\n",
       "    <tr>\n",
       "      <th>1179</th>\n",
       "      <td>0</td>\n",
       "      <td>3</td>\n",
       "      <td>£</td>\n",
       "      <td>The Hanging Bat</td>\n",
       "      <td>American</td>\n",
       "      <td>133 Lothian Road, Old Town, Edinburgh EH3 9AD</td>\n",
       "      <td>Edinburgh</td>\n",
       "      <td>Good</td>\n",
       "    </tr>\n",
       "  </tbody>\n",
       "</table>\n",
       "<p>1180 rows × 8 columns</p>\n",
       "</div>"
      ],
      "text/plain": [
       "      has_online_delivery  price_range currency                        name  \\\n",
       "0                       1            3      Rs.            Hauz Khas Social   \n",
       "1                       0            3      Rs.  Qubitos - The Terrace Cafe   \n",
       "2                       1            2      Rs.             The Hudson Cafe   \n",
       "3                       0            3      Rs.           Summer House Cafe   \n",
       "4                       0            3      Rs.                 38 Barracks   \n",
       "...                   ...          ...      ...                         ...   \n",
       "1175                    0            3        £               The Boozy Cow   \n",
       "1176                    0            3        £                 La Favorita   \n",
       "1177                    0            3        £           Roseleaf Bar Cafe   \n",
       "1178                    0            3        £                   Civerinos   \n",
       "1179                    0            3        £             The Hanging Bat   \n",
       "\n",
       "                                               cuisines  \\\n",
       "0            Continental, American, Asian, North Indian   \n",
       "1     Thai, European, Mexican, North Indian, Chinese...   \n",
       "2                   Cafe, Italian, Continental, Chinese   \n",
       "3                                  Italian, Continental   \n",
       "4                North Indian, Italian, Asian, American   \n",
       "...                                                 ...   \n",
       "1175                                      Burger, Grill   \n",
       "1176                                            Italian   \n",
       "1177                                     Scottish, Cafe   \n",
       "1178                                     Pizza, Italian   \n",
       "1179                                           American   \n",
       "\n",
       "                                       location.address location.city  \\\n",
       "0                9-A & 12, Hauz Khas Village, New Delhi     New Delhi   \n",
       "1     C-7, Vishal Enclave, Opposite Metro Pillar 417...     New Delhi   \n",
       "2     2524, 1st Floor, Hudson Lane, Delhi University...     New Delhi   \n",
       "3     1st Floor, DDA Shopping Complex, Aurobindo Pla...     New Delhi   \n",
       "4        M-38, Outer Circle, Connaught Place, New Delhi     New Delhi   \n",
       "...                                                 ...           ...   \n",
       "1175   17 Frederick Street, New Town, Edinburgh EH2 2EY     Edinburgh   \n",
       "1176       325-331 Leith Walk, Leith, Edinburgh EH6 8SA     Edinburgh   \n",
       "1177     23-24 Sandport Place, Leith, Edinburgh EH6 6EW     Edinburgh   \n",
       "1178  5 Hunter Square, Royal Mile, Old Town, Edinbur...     Edinburgh   \n",
       "1179      133 Lothian Road, Old Town, Edinburgh EH3 9AD     Edinburgh   \n",
       "\n",
       "     user_rating.rating_text  \n",
       "0                  Very Good  \n",
       "1                  Excellent  \n",
       "2                  Very Good  \n",
       "3                  Very Good  \n",
       "4                  Very Good  \n",
       "...                      ...  \n",
       "1175               Very Good  \n",
       "1176               Excellent  \n",
       "1177               Excellent  \n",
       "1178                    Good  \n",
       "1179                    Good  \n",
       "\n",
       "[1180 rows x 8 columns]"
      ]
     },
     "execution_count": 4,
     "metadata": {},
     "output_type": "execute_result"
    }
   ],
   "source": [
    "df"
   ]
  },
  {
   "cell_type": "markdown",
   "metadata": {},
   "source": [
    "Podemos saber la forma de nuestro `DataFrame` accediendo a la propiedad `shape`. El primer valor es el número de filas, mientras que el segundo es el número de columnas:"
   ]
  },
  {
   "cell_type": "code",
   "execution_count": 5,
   "metadata": {},
   "outputs": [
    {
     "data": {
      "text/plain": [
       "(1180, 8)"
      ]
     },
     "execution_count": 5,
     "metadata": {},
     "output_type": "execute_result"
    }
   ],
   "source": [
    "df.shape"
   ]
  },
  {
   "cell_type": "markdown",
   "metadata": {},
   "source": [
    "Podemos ver un número determinado de filas comenzando desde el principio con `head`:"
   ]
  },
  {
   "cell_type": "code",
   "execution_count": 6,
   "metadata": {},
   "outputs": [
    {
     "data": {
      "text/html": [
       "<div>\n",
       "<style scoped>\n",
       "    .dataframe tbody tr th:only-of-type {\n",
       "        vertical-align: middle;\n",
       "    }\n",
       "\n",
       "    .dataframe tbody tr th {\n",
       "        vertical-align: top;\n",
       "    }\n",
       "\n",
       "    .dataframe thead th {\n",
       "        text-align: right;\n",
       "    }\n",
       "</style>\n",
       "<table border=\"1\" class=\"dataframe\">\n",
       "  <thead>\n",
       "    <tr style=\"text-align: right;\">\n",
       "      <th></th>\n",
       "      <th>has_online_delivery</th>\n",
       "      <th>price_range</th>\n",
       "      <th>currency</th>\n",
       "      <th>name</th>\n",
       "      <th>cuisines</th>\n",
       "      <th>location.address</th>\n",
       "      <th>location.city</th>\n",
       "      <th>user_rating.rating_text</th>\n",
       "    </tr>\n",
       "  </thead>\n",
       "  <tbody>\n",
       "    <tr>\n",
       "      <th>0</th>\n",
       "      <td>1</td>\n",
       "      <td>3</td>\n",
       "      <td>Rs.</td>\n",
       "      <td>Hauz Khas Social</td>\n",
       "      <td>Continental, American, Asian, North Indian</td>\n",
       "      <td>9-A &amp; 12, Hauz Khas Village, New Delhi</td>\n",
       "      <td>New Delhi</td>\n",
       "      <td>Very Good</td>\n",
       "    </tr>\n",
       "    <tr>\n",
       "      <th>1</th>\n",
       "      <td>0</td>\n",
       "      <td>3</td>\n",
       "      <td>Rs.</td>\n",
       "      <td>Qubitos - The Terrace Cafe</td>\n",
       "      <td>Thai, European, Mexican, North Indian, Chinese...</td>\n",
       "      <td>C-7, Vishal Enclave, Opposite Metro Pillar 417...</td>\n",
       "      <td>New Delhi</td>\n",
       "      <td>Excellent</td>\n",
       "    </tr>\n",
       "    <tr>\n",
       "      <th>2</th>\n",
       "      <td>1</td>\n",
       "      <td>2</td>\n",
       "      <td>Rs.</td>\n",
       "      <td>The Hudson Cafe</td>\n",
       "      <td>Cafe, Italian, Continental, Chinese</td>\n",
       "      <td>2524, 1st Floor, Hudson Lane, Delhi University...</td>\n",
       "      <td>New Delhi</td>\n",
       "      <td>Very Good</td>\n",
       "    </tr>\n",
       "    <tr>\n",
       "      <th>3</th>\n",
       "      <td>0</td>\n",
       "      <td>3</td>\n",
       "      <td>Rs.</td>\n",
       "      <td>Summer House Cafe</td>\n",
       "      <td>Italian, Continental</td>\n",
       "      <td>1st Floor, DDA Shopping Complex, Aurobindo Pla...</td>\n",
       "      <td>New Delhi</td>\n",
       "      <td>Very Good</td>\n",
       "    </tr>\n",
       "    <tr>\n",
       "      <th>4</th>\n",
       "      <td>0</td>\n",
       "      <td>3</td>\n",
       "      <td>Rs.</td>\n",
       "      <td>38 Barracks</td>\n",
       "      <td>North Indian, Italian, Asian, American</td>\n",
       "      <td>M-38, Outer Circle, Connaught Place, New Delhi</td>\n",
       "      <td>New Delhi</td>\n",
       "      <td>Very Good</td>\n",
       "    </tr>\n",
       "  </tbody>\n",
       "</table>\n",
       "</div>"
      ],
      "text/plain": [
       "   has_online_delivery  price_range currency                        name  \\\n",
       "0                    1            3      Rs.            Hauz Khas Social   \n",
       "1                    0            3      Rs.  Qubitos - The Terrace Cafe   \n",
       "2                    1            2      Rs.             The Hudson Cafe   \n",
       "3                    0            3      Rs.           Summer House Cafe   \n",
       "4                    0            3      Rs.                 38 Barracks   \n",
       "\n",
       "                                            cuisines  \\\n",
       "0         Continental, American, Asian, North Indian   \n",
       "1  Thai, European, Mexican, North Indian, Chinese...   \n",
       "2                Cafe, Italian, Continental, Chinese   \n",
       "3                               Italian, Continental   \n",
       "4             North Indian, Italian, Asian, American   \n",
       "\n",
       "                                    location.address location.city  \\\n",
       "0             9-A & 12, Hauz Khas Village, New Delhi     New Delhi   \n",
       "1  C-7, Vishal Enclave, Opposite Metro Pillar 417...     New Delhi   \n",
       "2  2524, 1st Floor, Hudson Lane, Delhi University...     New Delhi   \n",
       "3  1st Floor, DDA Shopping Complex, Aurobindo Pla...     New Delhi   \n",
       "4     M-38, Outer Circle, Connaught Place, New Delhi     New Delhi   \n",
       "\n",
       "  user_rating.rating_text  \n",
       "0               Very Good  \n",
       "1               Excellent  \n",
       "2               Very Good  \n",
       "3               Very Good  \n",
       "4               Very Good  "
      ]
     },
     "execution_count": 6,
     "metadata": {},
     "output_type": "execute_result"
    }
   ],
   "source": [
    "df.head(5)"
   ]
  },
  {
   "cell_type": "markdown",
   "metadata": {},
   "source": [
    "Podemos ver también las filas del final con `tail`:"
   ]
  },
  {
   "cell_type": "code",
   "execution_count": 7,
   "metadata": {},
   "outputs": [
    {
     "data": {
      "text/html": [
       "<div>\n",
       "<style scoped>\n",
       "    .dataframe tbody tr th:only-of-type {\n",
       "        vertical-align: middle;\n",
       "    }\n",
       "\n",
       "    .dataframe tbody tr th {\n",
       "        vertical-align: top;\n",
       "    }\n",
       "\n",
       "    .dataframe thead th {\n",
       "        text-align: right;\n",
       "    }\n",
       "</style>\n",
       "<table border=\"1\" class=\"dataframe\">\n",
       "  <thead>\n",
       "    <tr style=\"text-align: right;\">\n",
       "      <th></th>\n",
       "      <th>has_online_delivery</th>\n",
       "      <th>price_range</th>\n",
       "      <th>currency</th>\n",
       "      <th>name</th>\n",
       "      <th>cuisines</th>\n",
       "      <th>location.address</th>\n",
       "      <th>location.city</th>\n",
       "      <th>user_rating.rating_text</th>\n",
       "    </tr>\n",
       "  </thead>\n",
       "  <tbody>\n",
       "    <tr>\n",
       "      <th>1175</th>\n",
       "      <td>0</td>\n",
       "      <td>3</td>\n",
       "      <td>£</td>\n",
       "      <td>The Boozy Cow</td>\n",
       "      <td>Burger, Grill</td>\n",
       "      <td>17 Frederick Street, New Town, Edinburgh EH2 2EY</td>\n",
       "      <td>Edinburgh</td>\n",
       "      <td>Very Good</td>\n",
       "    </tr>\n",
       "    <tr>\n",
       "      <th>1176</th>\n",
       "      <td>0</td>\n",
       "      <td>3</td>\n",
       "      <td>£</td>\n",
       "      <td>La Favorita</td>\n",
       "      <td>Italian</td>\n",
       "      <td>325-331 Leith Walk, Leith, Edinburgh EH6 8SA</td>\n",
       "      <td>Edinburgh</td>\n",
       "      <td>Excellent</td>\n",
       "    </tr>\n",
       "    <tr>\n",
       "      <th>1177</th>\n",
       "      <td>0</td>\n",
       "      <td>3</td>\n",
       "      <td>£</td>\n",
       "      <td>Roseleaf Bar Cafe</td>\n",
       "      <td>Scottish, Cafe</td>\n",
       "      <td>23-24 Sandport Place, Leith, Edinburgh EH6 6EW</td>\n",
       "      <td>Edinburgh</td>\n",
       "      <td>Excellent</td>\n",
       "    </tr>\n",
       "    <tr>\n",
       "      <th>1178</th>\n",
       "      <td>0</td>\n",
       "      <td>3</td>\n",
       "      <td>£</td>\n",
       "      <td>Civerinos</td>\n",
       "      <td>Pizza, Italian</td>\n",
       "      <td>5 Hunter Square, Royal Mile, Old Town, Edinbur...</td>\n",
       "      <td>Edinburgh</td>\n",
       "      <td>Good</td>\n",
       "    </tr>\n",
       "    <tr>\n",
       "      <th>1179</th>\n",
       "      <td>0</td>\n",
       "      <td>3</td>\n",
       "      <td>£</td>\n",
       "      <td>The Hanging Bat</td>\n",
       "      <td>American</td>\n",
       "      <td>133 Lothian Road, Old Town, Edinburgh EH3 9AD</td>\n",
       "      <td>Edinburgh</td>\n",
       "      <td>Good</td>\n",
       "    </tr>\n",
       "  </tbody>\n",
       "</table>\n",
       "</div>"
      ],
      "text/plain": [
       "      has_online_delivery  price_range currency               name  \\\n",
       "1175                    0            3        £      The Boozy Cow   \n",
       "1176                    0            3        £        La Favorita   \n",
       "1177                    0            3        £  Roseleaf Bar Cafe   \n",
       "1178                    0            3        £          Civerinos   \n",
       "1179                    0            3        £    The Hanging Bat   \n",
       "\n",
       "            cuisines                                   location.address  \\\n",
       "1175   Burger, Grill   17 Frederick Street, New Town, Edinburgh EH2 2EY   \n",
       "1176         Italian       325-331 Leith Walk, Leith, Edinburgh EH6 8SA   \n",
       "1177  Scottish, Cafe     23-24 Sandport Place, Leith, Edinburgh EH6 6EW   \n",
       "1178  Pizza, Italian  5 Hunter Square, Royal Mile, Old Town, Edinbur...   \n",
       "1179        American      133 Lothian Road, Old Town, Edinburgh EH3 9AD   \n",
       "\n",
       "     location.city user_rating.rating_text  \n",
       "1175     Edinburgh               Very Good  \n",
       "1176     Edinburgh               Excellent  \n",
       "1177     Edinburgh               Excellent  \n",
       "1178     Edinburgh                    Good  \n",
       "1179     Edinburgh                    Good  "
      ]
     },
     "execution_count": 7,
     "metadata": {},
     "output_type": "execute_result"
    }
   ],
   "source": [
    "df.tail(5)"
   ]
  },
  {
   "cell_type": "markdown",
   "metadata": {},
   "source": [
    "Podemos ver los `dtypes` de todas nuestras columnas accediendo a esa propiedad:"
   ]
  },
  {
   "cell_type": "code",
   "execution_count": 8,
   "metadata": {},
   "outputs": [
    {
     "data": {
      "text/plain": [
       "has_online_delivery         int64\n",
       "price_range                 int64\n",
       "currency                   object\n",
       "name                       object\n",
       "cuisines                   object\n",
       "location.address           object\n",
       "location.city              object\n",
       "user_rating.rating_text    object\n",
       "dtype: object"
      ]
     },
     "execution_count": 8,
     "metadata": {},
     "output_type": "execute_result"
    }
   ],
   "source": [
    "df.dtypes"
   ]
  },
  {
   "cell_type": "markdown",
   "metadata": {},
   "source": [
    "También podemos usar la función `info` del DataFrame para ver más información sobre las columnas. Por ejemplo, el número de valores no nulos que hay en cada una."
   ]
  },
  {
   "cell_type": "code",
   "execution_count": 9,
   "metadata": {},
   "outputs": [
    {
     "name": "stdout",
     "output_type": "stream",
     "text": [
      "<class 'pandas.core.frame.DataFrame'>\n",
      "Index: 1180 entries, 0 to 1179\n",
      "Data columns (total 8 columns):\n",
      " #   Column                   Non-Null Count  Dtype \n",
      "---  ------                   --------------  ----- \n",
      " 0   has_online_delivery      1180 non-null   int64 \n",
      " 1   price_range              1180 non-null   int64 \n",
      " 2   currency                 1180 non-null   object\n",
      " 3   name                     1180 non-null   object\n",
      " 4   cuisines                 1180 non-null   object\n",
      " 5   location.address         1180 non-null   object\n",
      " 6   location.city            1180 non-null   object\n",
      " 7   user_rating.rating_text  1180 non-null   object\n",
      "dtypes: int64(2), object(6)\n",
      "memory usage: 83.0+ KB\n"
     ]
    }
   ],
   "source": [
    "df.info()"
   ]
  },
  {
   "cell_type": "markdown",
   "metadata": {},
   "source": [
    "En caso de que tengamos tantas columnas que no podamos verlas todas en el preview de arriba, podemos acceder a una `lista` de columnas usando las propiedad `columns`:"
   ]
  },
  {
   "cell_type": "code",
   "execution_count": 10,
   "metadata": {},
   "outputs": [
    {
     "data": {
      "text/plain": [
       "Index(['has_online_delivery', 'price_range', 'currency', 'name', 'cuisines',\n",
       "       'location.address', 'location.city', 'user_rating.rating_text'],\n",
       "      dtype='object')"
      ]
     },
     "execution_count": 10,
     "metadata": {},
     "output_type": "execute_result"
    }
   ],
   "source": [
    "df.columns"
   ]
  },
  {
   "cell_type": "markdown",
   "metadata": {},
   "source": [
    "Vamos a un Reto para que puedas practicar leer un conjunto de datos y hacer una exploración básica."
   ]
  }
 ],
 "metadata": {
  "kernelspec": {
   "display_name": "Python (data_science)",
   "language": "python",
   "name": "data_science"
  },
  "language_info": {
   "codemirror_mode": {
    "name": "ipython",
    "version": 3
   },
   "file_extension": ".py",
   "mimetype": "text/x-python",
   "name": "python",
   "nbconvert_exporter": "python",
   "pygments_lexer": "ipython3",
   "version": "3.8.5"
  }
 },
 "nbformat": 4,
 "nbformat_minor": 4
}
