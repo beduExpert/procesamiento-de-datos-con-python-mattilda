{
 "cells": [
  {
   "cell_type": "markdown",
   "metadata": {},
   "source": [
    "## Reto 2: Indexación de Series\n",
    "\n",
    "### 1. Objetivos:\n",
    "    - Practicar técnicas avanzadas de indexación de `Series`\n",
    " \n",
    "---\n",
    "    \n",
    "### 2. Desarrollo:"
   ]
  },
  {
   "cell_type": "markdown",
   "metadata": {},
   "source": [
    "#### a) Indexación de `Series`\n",
    "\n",
    "Tenemos una `Serie` que contiene los gastos mensuales totales (en MXN) de distintas divisiones de EyePoker Inc. Tú eres el Contador Oficial y tienes que obtener subconjuntos de datos que sirvan para agregar los gastos totales de diferentes combinaciones de divisiones.\n",
    "\n",
    "Los datos son los siguientes:"
   ]
  },
  {
   "cell_type": "code",
   "execution_count": null,
   "metadata": {},
   "outputs": [],
   "source": [
    "import pandas as pd\n",
    "\n",
    "gastos_mensuales = {\n",
    "    'A': 15000,\n",
    "    'B': 200000,\n",
    "    'C': 3250000,\n",
    "    'D': 120000,\n",
    "    'E': 135000,\n",
    "    'F': 55000,\n",
    "    'G': 100000,\n",
    "    'H': 25000\n",
    "}\n",
    "\n",
    "gastos_serie = pd.Series(gastos_mensuales)"
   ]
  },
  {
   "cell_type": "code",
   "execution_count": null,
   "metadata": {},
   "outputs": [],
   "source": [
    "gastos_serie"
   ]
  },
  {
   "cell_type": "markdown",
   "metadata": {},
   "source": [
    "El índice es el nombre de la división y los valores son los gastos mensuales en MXN.\n",
    "\n",
    "Indexando la serie `gastos_serie` extrae las combinaciones de divisiones que se indican debajo para poder hacer los cálculos necesarios. El primero es un ejemplo:"
   ]
  },
  {
   "cell_type": "code",
   "execution_count": null,
   "metadata": {},
   "outputs": [],
   "source": [
    "# Los gastos de la división 'D' y 'G'\n",
    "gastos_D_G =\n",
    "\n",
    "# Los gastos de la división 'A' y 'E'\n",
    "gastos_A_E =\n",
    "\n",
    "# Los gastos de la división 'B', 'F' y 'H'\n",
    "gastos_B_F_H =\n",
    "\n",
    "# Los gastos desde la primera división hasta la división 'E'\n",
    "gastos_principio_a_E =\n",
    "\n",
    "# Los gastos desde la división 'D' hasta la 'G'\n",
    "gastos_D_a_G =\n",
    "\n",
    "# Los gastos desde la división 'C' hasta el la última división\n",
    "gastos_C_a_final ="
   ]
  },
  {
   "cell_type": "markdown",
   "metadata": {},
   "source": [
    "Pídele a tu experta la función de verificación `revisar_indexaciones` (encontrada en el archivo `helpers.py` de la carpeta donde se encuentra este Reto), pégala debajo y corre la celda para verificar tu resultado:"
   ]
  },
  {
   "cell_type": "code",
   "execution_count": null,
   "metadata": {},
   "outputs": [],
   "source": [
    "# Pega aquí la función de verificación\n",
    "\n",
    "revisar_indexaciones(gastos_serie, gastos_D_G, gastos_A_E, gastos_B_F_H,\n",
    "                         gastos_principio_a_E, gastos_D_a_G, gastos_C_a_final)"
   ]
  },
  {
   "cell_type": "markdown",
   "metadata": {},
   "source": [
    "<details><summary>Solución</summary>\n",
    "\n",
    "```python\n",
    "# Los gastos de la división 'D' y 'G'\n",
    "gastos_D_G = gastos_serie.loc[['D', 'G']]\n",
    "\n",
    "# Los gastos de la división 'A' y 'E'\n",
    "gastos_A_E = gastos_serie.loc[['A', 'E']]\n",
    "\n",
    "# Los gastos de la división 'B', 'F' y 'H'\n",
    "gastos_B_F_H = gastos_serie.loc[['B', 'F', 'H']]\n",
    "\n",
    "# Los gastos desde la primera división hasta la división 'E'\n",
    "gastos_principio_a_E = gastos_serie.loc[:'E']\n",
    "\n",
    "# Los gastos desde la división 'D' hasta la 'G'\n",
    "gastos_D_a_G = gastos_serie.loc['D':'G']\n",
    "\n",
    "# Los gastos desde la división 'C' hasta el la última división\n",
    "gastos_C_a_final = gastos_serie.loc['C':]\n",
    "```\n",
    "    \n",
    "</details>"
   ]
  }
 ],
 "metadata": {
  "kernelspec": {
   "display_name": "Python (data_science)",
   "language": "python",
   "name": "data_science"
  },
  "language_info": {
   "codemirror_mode": {
    "name": "ipython",
    "version": 3
   },
   "file_extension": ".py",
   "mimetype": "text/x-python",
   "name": "python",
   "nbconvert_exporter": "python",
   "pygments_lexer": "ipython3",
   "version": "3.8.5"
  }
 },
 "nbformat": 4,
 "nbformat_minor": 4
}
