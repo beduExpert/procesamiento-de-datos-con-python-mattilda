{
 "cells": [
  {
   "cell_type": "markdown",
   "metadata": {},
   "source": [
    "## Reto 5: Análisis Exploratorio de Datos\n",
    "\n",
    "### 1. Objetivos:\n",
    "    - Practicar leer archivos JSON usando pandas\n",
    "    - Practicar hacerse preguntas acerca de los conjuntos de datos que tenemos\n",
    " \n",
    "---\n",
    "    \n",
    "### 2. Desarrollo:"
   ]
  },
  {
   "cell_type": "markdown",
   "metadata": {},
   "source": [
    "Vamos a practicar explorar conjuntos de datos y hacernos preguntas acerca de ellos.\n",
    "\n",
    "Tenemos un conjunto de datos en formato JSON almacenado en '../../Datasets/new_york_times_bestsellers-clean.json' (en la carpeta /Datasets en el directorio raíz del módulo).\n",
    "\n",
    "Primero que nada, lee el archivo JSON y crea un `DataFrame` con él:"
   ]
  },
  {
   "cell_type": "code",
   "execution_count": 1,
   "metadata": {},
   "outputs": [],
   "source": [
    "## Realiza aquí los imports que necesites\n",
    "\n",
    "## Lee aquí tu archivo JSON\n",
    "\n",
    "## Crea aquí tu DataFrame"
   ]
  },
  {
   "cell_type": "markdown",
   "metadata": {},
   "source": [
    "Ahora, usando todas las herramientas que hemos aprendido en esta sesión (indexación de filas y columnas, `shape`, `dtypes`, `head`, `tail`, `columns`, `info`, etc) explora tu dataset y debate con el experto y tus compañeros las siguientes preguntas:\n",
    "\n",
    "1. ¿Qué podemos saber de este dataset con tan sólo leer el nombre del archivo y los nombres de las columnas?\n",
    "2. ¿Cuál es el tamaño (forma) de nuestro DataFrame? ¿Podríamos considerarlo un dataset grande o pequeño?\n",
    "3. ¿Crees que los nombres de las columnas son suficientemente descriptivos? ¿Podrían ser más claros o limpios?\n",
    "4. ¿Qué tipos de datos tenemos?\n",
    "5. ¿Qué significa el formato en el que tenemos las fechas?\n",
    "6. ¿Qué tipo de preguntas podríamos responder usando los datos numéricos de este dataset?\n",
    "7. ¿Qué tipo de preguntas podríamos responder usando los datos no-numéricos? "
   ]
  },
  {
   "cell_type": "code",
   "execution_count": null,
   "metadata": {},
   "outputs": [],
   "source": []
  }
 ],
 "metadata": {
  "kernelspec": {
   "display_name": "Python (data_science)",
   "language": "python",
   "name": "data_science"
  },
  "language_info": {
   "codemirror_mode": {
    "name": "ipython",
    "version": 3
   },
   "file_extension": ".py",
   "mimetype": "text/x-python",
   "name": "python",
   "nbconvert_exporter": "python",
   "pygments_lexer": "ipython3",
   "version": "3.8.5"
  }
 },
 "nbformat": 4,
 "nbformat_minor": 4
}
