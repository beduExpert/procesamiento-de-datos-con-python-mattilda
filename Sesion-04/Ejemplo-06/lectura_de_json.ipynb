{
 "cells": [
  {
   "cell_type": "markdown",
   "metadata": {},
   "source": [
    "## Ejemplo 6: Lectura de JSON\n",
    "\n",
    "### 1. Objetivos:\n",
    "    - Aprender a leer archivos JSON y crear `DataFrames` con ellos\n",
    " \n",
    "---\n",
    "    \n",
    "### 2. Desarrollo:"
   ]
  },
  {
   "cell_type": "code",
   "execution_count": 1,
   "metadata": {},
   "outputs": [],
   "source": [
    "import pandas as pd"
   ]
  },
  {
   "cell_type": "markdown",
   "metadata": {},
   "source": [
    "Primero tenemos que importar la librería `json` que nos ayuda a lidiar con formato JSON en Python:"
   ]
  },
  {
   "cell_type": "code",
   "execution_count": 2,
   "metadata": {},
   "outputs": [],
   "source": [
    "import json"
   ]
  },
  {
   "cell_type": "markdown",
   "metadata": {},
   "source": [
    "Después leemos el archivo JSON usando `open`:"
   ]
  },
  {
   "cell_type": "code",
   "execution_count": 3,
   "metadata": {},
   "outputs": [],
   "source": [
    "f = open('../../Datasets/zomato_reviews-clean.json', 'r')"
   ]
  },
  {
   "cell_type": "markdown",
   "metadata": {},
   "source": [
    "La ruta (o `path`) puede ser absoluto o relativo (en el Prework hay un link donde se explica esto con más claridad). El `'r'` significa que queremos leer el archivo (`read`)."
   ]
  },
  {
   "cell_type": "markdown",
   "metadata": {},
   "source": [
    "Después convertimos nuestro archivo JSON en un diccionario de Python:"
   ]
  },
  {
   "cell_type": "code",
   "execution_count": 5,
   "metadata": {},
   "outputs": [],
   "source": [
    "json_data = json.load(f)"
   ]
  },
  {
   "cell_type": "markdown",
   "metadata": {},
   "source": [
    "Después cerramos nuestro archivo:"
   ]
  },
  {
   "cell_type": "code",
   "execution_count": 6,
   "metadata": {},
   "outputs": [],
   "source": [
    "f.close()"
   ]
  },
  {
   "cell_type": "markdown",
   "metadata": {},
   "source": [
    "Y finalmente pasamos el diccionario a `pandas.DataFrame.from_dict` para crear un `DataFrame`:"
   ]
  },
  {
   "cell_type": "code",
   "execution_count": 7,
   "metadata": {},
   "outputs": [],
   "source": [
    "df = pd.DataFrame.from_dict(json_data)"
   ]
  },
  {
   "cell_type": "code",
   "execution_count": 8,
   "metadata": {},
   "outputs": [
    {
     "data": {
      "text/html": [
       "<div>\n",
       "<style scoped>\n",
       "    .dataframe tbody tr th:only-of-type {\n",
       "        vertical-align: middle;\n",
       "    }\n",
       "\n",
       "    .dataframe tbody tr th {\n",
       "        vertical-align: top;\n",
       "    }\n",
       "\n",
       "    .dataframe thead th {\n",
       "        text-align: right;\n",
       "    }\n",
       "</style>\n",
       "<table border=\"1\" class=\"dataframe\">\n",
       "  <thead>\n",
       "    <tr style=\"text-align: right;\">\n",
       "      <th></th>\n",
       "      <th>has_online_delivery</th>\n",
       "      <th>price_range</th>\n",
       "      <th>currency</th>\n",
       "      <th>name</th>\n",
       "      <th>cuisines</th>\n",
       "      <th>location.address</th>\n",
       "      <th>location.city</th>\n",
       "      <th>user_rating.rating_text</th>\n",
       "    </tr>\n",
       "  </thead>\n",
       "  <tbody>\n",
       "    <tr>\n",
       "      <th>0</th>\n",
       "      <td>1</td>\n",
       "      <td>3</td>\n",
       "      <td>Rs.</td>\n",
       "      <td>Hauz Khas Social</td>\n",
       "      <td>Continental, American, Asian, North Indian</td>\n",
       "      <td>9-A &amp; 12, Hauz Khas Village, New Delhi</td>\n",
       "      <td>New Delhi</td>\n",
       "      <td>Very Good</td>\n",
       "    </tr>\n",
       "    <tr>\n",
       "      <th>1</th>\n",
       "      <td>0</td>\n",
       "      <td>3</td>\n",
       "      <td>Rs.</td>\n",
       "      <td>Qubitos - The Terrace Cafe</td>\n",
       "      <td>Thai, European, Mexican, North Indian, Chinese...</td>\n",
       "      <td>C-7, Vishal Enclave, Opposite Metro Pillar 417...</td>\n",
       "      <td>New Delhi</td>\n",
       "      <td>Excellent</td>\n",
       "    </tr>\n",
       "    <tr>\n",
       "      <th>2</th>\n",
       "      <td>1</td>\n",
       "      <td>2</td>\n",
       "      <td>Rs.</td>\n",
       "      <td>The Hudson Cafe</td>\n",
       "      <td>Cafe, Italian, Continental, Chinese</td>\n",
       "      <td>2524, 1st Floor, Hudson Lane, Delhi University...</td>\n",
       "      <td>New Delhi</td>\n",
       "      <td>Very Good</td>\n",
       "    </tr>\n",
       "    <tr>\n",
       "      <th>3</th>\n",
       "      <td>0</td>\n",
       "      <td>3</td>\n",
       "      <td>Rs.</td>\n",
       "      <td>Summer House Cafe</td>\n",
       "      <td>Italian, Continental</td>\n",
       "      <td>1st Floor, DDA Shopping Complex, Aurobindo Pla...</td>\n",
       "      <td>New Delhi</td>\n",
       "      <td>Very Good</td>\n",
       "    </tr>\n",
       "    <tr>\n",
       "      <th>4</th>\n",
       "      <td>0</td>\n",
       "      <td>3</td>\n",
       "      <td>Rs.</td>\n",
       "      <td>38 Barracks</td>\n",
       "      <td>North Indian, Italian, Asian, American</td>\n",
       "      <td>M-38, Outer Circle, Connaught Place, New Delhi</td>\n",
       "      <td>New Delhi</td>\n",
       "      <td>Very Good</td>\n",
       "    </tr>\n",
       "    <tr>\n",
       "      <th>...</th>\n",
       "      <td>...</td>\n",
       "      <td>...</td>\n",
       "      <td>...</td>\n",
       "      <td>...</td>\n",
       "      <td>...</td>\n",
       "      <td>...</td>\n",
       "      <td>...</td>\n",
       "      <td>...</td>\n",
       "    </tr>\n",
       "    <tr>\n",
       "      <th>1175</th>\n",
       "      <td>0</td>\n",
       "      <td>3</td>\n",
       "      <td>£</td>\n",
       "      <td>The Boozy Cow</td>\n",
       "      <td>Burger, Grill</td>\n",
       "      <td>17 Frederick Street, New Town, Edinburgh EH2 2EY</td>\n",
       "      <td>Edinburgh</td>\n",
       "      <td>Very Good</td>\n",
       "    </tr>\n",
       "    <tr>\n",
       "      <th>1176</th>\n",
       "      <td>0</td>\n",
       "      <td>3</td>\n",
       "      <td>£</td>\n",
       "      <td>La Favorita</td>\n",
       "      <td>Italian</td>\n",
       "      <td>325-331 Leith Walk, Leith, Edinburgh EH6 8SA</td>\n",
       "      <td>Edinburgh</td>\n",
       "      <td>Excellent</td>\n",
       "    </tr>\n",
       "    <tr>\n",
       "      <th>1177</th>\n",
       "      <td>0</td>\n",
       "      <td>3</td>\n",
       "      <td>£</td>\n",
       "      <td>Roseleaf Bar Cafe</td>\n",
       "      <td>Scottish, Cafe</td>\n",
       "      <td>23-24 Sandport Place, Leith, Edinburgh EH6 6EW</td>\n",
       "      <td>Edinburgh</td>\n",
       "      <td>Excellent</td>\n",
       "    </tr>\n",
       "    <tr>\n",
       "      <th>1178</th>\n",
       "      <td>0</td>\n",
       "      <td>3</td>\n",
       "      <td>£</td>\n",
       "      <td>Civerinos</td>\n",
       "      <td>Pizza, Italian</td>\n",
       "      <td>5 Hunter Square, Royal Mile, Old Town, Edinbur...</td>\n",
       "      <td>Edinburgh</td>\n",
       "      <td>Good</td>\n",
       "    </tr>\n",
       "    <tr>\n",
       "      <th>1179</th>\n",
       "      <td>0</td>\n",
       "      <td>3</td>\n",
       "      <td>£</td>\n",
       "      <td>The Hanging Bat</td>\n",
       "      <td>American</td>\n",
       "      <td>133 Lothian Road, Old Town, Edinburgh EH3 9AD</td>\n",
       "      <td>Edinburgh</td>\n",
       "      <td>Good</td>\n",
       "    </tr>\n",
       "  </tbody>\n",
       "</table>\n",
       "<p>1180 rows × 8 columns</p>\n",
       "</div>"
      ],
      "text/plain": [
       "      has_online_delivery  price_range currency                        name  \\\n",
       "0                       1            3      Rs.            Hauz Khas Social   \n",
       "1                       0            3      Rs.  Qubitos - The Terrace Cafe   \n",
       "2                       1            2      Rs.             The Hudson Cafe   \n",
       "3                       0            3      Rs.           Summer House Cafe   \n",
       "4                       0            3      Rs.                 38 Barracks   \n",
       "...                   ...          ...      ...                         ...   \n",
       "1175                    0            3        £               The Boozy Cow   \n",
       "1176                    0            3        £                 La Favorita   \n",
       "1177                    0            3        £           Roseleaf Bar Cafe   \n",
       "1178                    0            3        £                   Civerinos   \n",
       "1179                    0            3        £             The Hanging Bat   \n",
       "\n",
       "                                               cuisines  \\\n",
       "0            Continental, American, Asian, North Indian   \n",
       "1     Thai, European, Mexican, North Indian, Chinese...   \n",
       "2                   Cafe, Italian, Continental, Chinese   \n",
       "3                                  Italian, Continental   \n",
       "4                North Indian, Italian, Asian, American   \n",
       "...                                                 ...   \n",
       "1175                                      Burger, Grill   \n",
       "1176                                            Italian   \n",
       "1177                                     Scottish, Cafe   \n",
       "1178                                     Pizza, Italian   \n",
       "1179                                           American   \n",
       "\n",
       "                                       location.address location.city  \\\n",
       "0                9-A & 12, Hauz Khas Village, New Delhi     New Delhi   \n",
       "1     C-7, Vishal Enclave, Opposite Metro Pillar 417...     New Delhi   \n",
       "2     2524, 1st Floor, Hudson Lane, Delhi University...     New Delhi   \n",
       "3     1st Floor, DDA Shopping Complex, Aurobindo Pla...     New Delhi   \n",
       "4        M-38, Outer Circle, Connaught Place, New Delhi     New Delhi   \n",
       "...                                                 ...           ...   \n",
       "1175   17 Frederick Street, New Town, Edinburgh EH2 2EY     Edinburgh   \n",
       "1176       325-331 Leith Walk, Leith, Edinburgh EH6 8SA     Edinburgh   \n",
       "1177     23-24 Sandport Place, Leith, Edinburgh EH6 6EW     Edinburgh   \n",
       "1178  5 Hunter Square, Royal Mile, Old Town, Edinbur...     Edinburgh   \n",
       "1179      133 Lothian Road, Old Town, Edinburgh EH3 9AD     Edinburgh   \n",
       "\n",
       "     user_rating.rating_text  \n",
       "0                  Very Good  \n",
       "1                  Excellent  \n",
       "2                  Very Good  \n",
       "3                  Very Good  \n",
       "4                  Very Good  \n",
       "...                      ...  \n",
       "1175               Very Good  \n",
       "1176               Excellent  \n",
       "1177               Excellent  \n",
       "1178                    Good  \n",
       "1179                    Good  \n",
       "\n",
       "[1180 rows x 8 columns]"
      ]
     },
     "execution_count": 8,
     "metadata": {},
     "output_type": "execute_result"
    }
   ],
   "source": [
    "df"
   ]
  },
  {
   "cell_type": "markdown",
   "metadata": {},
   "source": [
    "¡Listo! Ahora vamos a ver qué podemos hacer con este `DataFrame`."
   ]
  }
 ],
 "metadata": {
  "kernelspec": {
   "display_name": "Python (data_science)",
   "language": "python",
   "name": "data_science"
  },
  "language_info": {
   "codemirror_mode": {
    "name": "ipython",
    "version": 3
   },
   "file_extension": ".py",
   "mimetype": "text/x-python",
   "name": "python",
   "nbconvert_exporter": "python",
   "pygments_lexer": "ipython3",
   "version": "3.8.5"
  }
 },
 "nbformat": 4,
 "nbformat_minor": 4
}
