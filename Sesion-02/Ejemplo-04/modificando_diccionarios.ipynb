{
 "cells": [
  {
   "cell_type": "markdown",
   "metadata": {},
   "source": [
    "## Ejemplo 4: Modificando diccionarios\n",
    "\n",
    "### 1. Objetivos:\n",
    "    - Practicar los 3 métodos básicos de modificación de diccionarios: agregar datos, modificar datos y borrar llaves.\n",
    " \n",
    "---\n",
    "    \n",
    "### 2. Desarrollo:"
   ]
  },
  {
   "cell_type": "markdown",
   "metadata": {},
   "source": [
    "Tenemos 3 maneras básicas de modificar nuestros diccionarios:"
   ]
  },
  {
   "cell_type": "markdown",
   "metadata": {},
   "source": [
    "#### Agregar datos\n",
    "\n",
    "Para agregar un dato a un diccionario ya existente, basta con \"llamar\" la llave que queremos agregar y asignarle un valor:"
   ]
  },
  {
   "cell_type": "code",
   "execution_count": 2,
   "metadata": {},
   "outputs": [],
   "source": [
    "from pprint import pprint"
   ]
  },
  {
   "cell_type": "code",
   "execution_count": 3,
   "metadata": {},
   "outputs": [
    {
     "name": "stdout",
     "output_type": "stream",
     "text": [
      "{'dir': {'calle': 'Pilares',\n",
      "         'colonia': 'Del Valle Centro',\n",
      "         'cp': '03100',\n",
      "         'num': 69},\n",
      " 'nombre': 'Isabel',\n",
      " 'tel': 5546352431}\n"
     ]
    }
   ],
   "source": [
    "info_de_contacto = {\n",
    "    \"nombre\": \"Isabel\",\n",
    "    \"tel\": 5546352431,\n",
    "    \"dir\": {\n",
    "        \"colonia\": \"Del Valle Centro\",\n",
    "        \"calle\": \"Pilares\",\n",
    "        \"num\": 69,\n",
    "        \"cp\": \"03100\"\n",
    "    }\n",
    "}\n",
    "\n",
    "pprint(info_de_contacto)"
   ]
  },
  {
   "cell_type": "code",
   "execution_count": 4,
   "metadata": {},
   "outputs": [
    {
     "name": "stdout",
     "output_type": "stream",
     "text": [
      "{'dir': {'calle': 'Pilares',\n",
      "         'colonia': 'Del Valle Centro',\n",
      "         'cp': '03100',\n",
      "         'num': 69},\n",
      " 'email': 'isabel.arriaga@gmail.com',\n",
      " 'nombre': 'Isabel',\n",
      " 'tel': 5546352431}\n"
     ]
    }
   ],
   "source": [
    "info_de_contacto[\"email\"] = \"isabel.arriaga@gmail.com\"\n",
    "\n",
    "pprint(info_de_contacto)"
   ]
  },
  {
   "cell_type": "markdown",
   "metadata": {},
   "source": [
    "#### Modificar pares llave-valor existentes\n",
    "\n",
    "Para modificar un par llave-valor ya existente, basta con reasignar a una llave de nuestro diccionario el nuevo valor que queremos agregar. Por ejemplo, imaginemos que esta persona cambió de dirección:"
   ]
  },
  {
   "cell_type": "code",
   "execution_count": 5,
   "metadata": {},
   "outputs": [
    {
     "name": "stdout",
     "output_type": "stream",
     "text": [
      "{'dir': {'calle': 'Progreso', 'colonia': 'Escandón', 'cp': '11800', 'num': 189},\n",
      " 'email': 'isabel.arriaga@gmail.com',\n",
      " 'nombre': 'Isabel',\n",
      " 'tel': 5546352431}\n"
     ]
    }
   ],
   "source": [
    "info_de_contacto[\"dir\"] = {\n",
    "        \"colonia\": \"Escandón\",\n",
    "        \"calle\": \"Progreso\",\n",
    "        \"num\": 189,\n",
    "        \"cp\": \"11800\"\n",
    "    }\n",
    "\n",
    "pprint(info_de_contacto)"
   ]
  },
  {
   "cell_type": "markdown",
   "metadata": {},
   "source": [
    "Podemos incluso modificar estructuras de datos dentro de nuestro diccionario. Por ejemplo, ¿qué tal si hubo un error al agregar la nueva dirección y ahora tenemos que cambiar solamente el número de residencia:"
   ]
  },
  {
   "cell_type": "code",
   "execution_count": 6,
   "metadata": {},
   "outputs": [
    {
     "name": "stdout",
     "output_type": "stream",
     "text": [
      "{'dir': {'calle': 'Progreso', 'colonia': 'Escandón', 'cp': '11800', 'num': 289},\n",
      " 'email': 'isabel.arriaga@gmail.com',\n",
      " 'nombre': 'Isabel',\n",
      " 'tel': 5546352431}\n"
     ]
    }
   ],
   "source": [
    "info_de_contacto[\"dir\"][\"num\"] = 289\n",
    "\n",
    "pprint(info_de_contacto)"
   ]
  },
  {
   "cell_type": "markdown",
   "metadata": {},
   "source": [
    "#### Eliminando datos\n",
    "\n",
    "Para eliminar datos, se puede usar el método `pop`. Como bien recordarás, el nombre de este método es idéntico al método para eliminar elementos de una lista. La diferencia es que el método `pop` de las listas recibe índices como argumentos, el método `pop` de diccionarios recibe llaves como argumentos:"
   ]
  },
  {
   "cell_type": "code",
   "execution_count": 7,
   "metadata": {},
   "outputs": [
    {
     "name": "stdout",
     "output_type": "stream",
     "text": [
      "{'dir': {'calle': 'Progreso', 'colonia': 'Escandón', 'cp': '11800', 'num': 289},\n",
      " 'email': 'isabel.arriaga@gmail.com',\n",
      " 'nombre': 'Isabel'}\n"
     ]
    }
   ],
   "source": [
    "info_de_contacto.pop(\"tel\")\n",
    "\n",
    "pprint(info_de_contacto)"
   ]
  },
  {
   "cell_type": "markdown",
   "metadata": {},
   "source": [
    "---\n",
    "\n",
    "Vayamos ahora a nuestro cuarto Reto para practicar estas herramientas a profundidad."
   ]
  },
  {
   "cell_type": "code",
   "execution_count": null,
   "metadata": {},
   "outputs": [],
   "source": []
  }
 ],
 "metadata": {
  "kernelspec": {
   "display_name": "Python (data_science)",
   "language": "python",
   "name": "data_science"
  },
  "language_info": {
   "codemirror_mode": {
    "name": "ipython",
    "version": 3
   },
   "file_extension": ".py",
   "mimetype": "text/x-python",
   "name": "python",
   "nbconvert_exporter": "python",
   "pygments_lexer": "ipython3",
   "version": "3.8.5"
  }
 },
 "nbformat": 4,
 "nbformat_minor": 4
}
