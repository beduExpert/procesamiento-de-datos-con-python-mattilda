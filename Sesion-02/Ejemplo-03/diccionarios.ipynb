{
 "cells": [
  {
   "cell_type": "markdown",
   "metadata": {},
   "source": [
    "## Ejemplo 3: Creando y accesando diccionarios\n",
    "\n",
    "### 1. Objetivos:\n",
    "    - Aprender a crear diccionarios con pares llaves-valor\n",
    "    - Aprender a acceder a los valores guardados en el diccionario\n",
    "    \n",
    "---\n",
    "    \n",
    "### 2. Desarrollo:"
   ]
  },
  {
   "cell_type": "markdown",
   "metadata": {},
   "source": [
    "Los diccionarios se definen usando llaves (`{}`):"
   ]
  },
  {
   "cell_type": "code",
   "execution_count": 1,
   "metadata": {},
   "outputs": [],
   "source": [
    "diccionario_1 = {}"
   ]
  },
  {
   "cell_type": "markdown",
   "metadata": {},
   "source": [
    "¡`diccionario_1` ya es un diccionario! Sólo que está vacío. Para incluir datos dentro de un diccionario, tenemos que agregar pares llave-valor dentro de las llaves (`{}`). Cada par llave-valor se separa con una coma (`,`):"
   ]
  },
  {
   "cell_type": "code",
   "execution_count": 2,
   "metadata": {},
   "outputs": [],
   "source": [
    "diccionario_2 = {\n",
    "    \"llave_1\": \"valor_1\",\n",
    "    \"llave_2\": \"valor_2\",\n",
    "    \"llave_3\": \"valor_3\",\n",
    "    \"llave_4\": \"valor_4\"\n",
    "}"
   ]
  },
  {
   "cell_type": "markdown",
   "metadata": {},
   "source": [
    "Nuestras llaves pueden ser tanto `strings` como `ints` (pueden ser otras cosas, pero estos son los más comunes):"
   ]
  },
  {
   "cell_type": "code",
   "execution_count": 6,
   "metadata": {},
   "outputs": [],
   "source": [
    "diccionario_3 = {\n",
    "    1: \"Uno\",\n",
    "    2: \"Dos\",\n",
    "    3: \"Tres\",\n",
    "    4: \"Cuatro\"\n",
    "}"
   ]
  },
  {
   "cell_type": "markdown",
   "metadata": {},
   "source": [
    "Nuestros valores pueden ser cualquier tipo de dato que conozcas hasta este momento (e incluso otras cosas que aprenderás después):"
   ]
  },
  {
   "cell_type": "code",
   "execution_count": 8,
   "metadata": {},
   "outputs": [],
   "source": [
    "diccionario_4 = {\n",
    "    \"int\": 123,\n",
    "    \"float\": 23.56,\n",
    "    \"string\": \"Hola\",\n",
    "    \"booleano\": True,\n",
    "    \"lista\": [1, 2, 3, 4],\n",
    "    \"diccionario\": {\n",
    "        1: \"uno\",\n",
    "        2: \"dos\"\n",
    "    }\n",
    "}"
   ]
  },
  {
   "cell_type": "markdown",
   "metadata": {},
   "source": [
    "Acceder a un diccionario es tan fácil como escribir el nombre del diccionario, agregar corchetes (`[]`) y pasarle el nombre de la llave que quieres acceder. Por obvias razones, un diccionario no puede tener más de una llave con el mismo nombre. Si tenemos otras estructuras de datos dentro de nuestro diccionario, podemos acceder a los elementos dentro de ellas después de haber accedido primero a toda la estructura de datos:"
   ]
  },
  {
   "cell_type": "code",
   "execution_count": 10,
   "metadata": {},
   "outputs": [
    {
     "name": "stdout",
     "output_type": "stream",
     "text": [
      "23.56\n",
      "True\n",
      "4\n",
      "uno\n"
     ]
    }
   ],
   "source": [
    "print(diccionario_4[\"float\"])\n",
    "print(diccionario_4[\"booleano\"])\n",
    "print(diccionario_4[\"lista\"][3])\n",
    "print(diccionario_4[\"diccionario\"][1])"
   ]
  },
  {
   "cell_type": "markdown",
   "metadata": {},
   "source": [
    "---\n",
    "\n",
    "¡Practiquemos ahora un poco más en nuestro tercer Reto de la sesión!"
   ]
  },
  {
   "cell_type": "code",
   "execution_count": null,
   "metadata": {},
   "outputs": [],
   "source": []
  }
 ],
 "metadata": {
  "kernelspec": {
   "display_name": "Python (data_science)",
   "language": "python",
   "name": "data_science"
  },
  "language_info": {
   "codemirror_mode": {
    "name": "ipython",
    "version": 3
   },
   "file_extension": ".py",
   "mimetype": "text/x-python",
   "name": "python",
   "nbconvert_exporter": "python",
   "pygments_lexer": "ipython3",
   "version": "3.8.5"
  }
 },
 "nbformat": 4,
 "nbformat_minor": 4
}
