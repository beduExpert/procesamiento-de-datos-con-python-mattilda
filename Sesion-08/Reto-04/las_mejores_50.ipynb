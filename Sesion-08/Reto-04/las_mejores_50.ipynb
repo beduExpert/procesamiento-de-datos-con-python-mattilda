{
 "cells": [
  {
   "cell_type": "markdown",
   "metadata": {},
   "source": [
    "## Reto 4: Las mejores 50\n",
    "\n",
    "### 1. Objetivos:\n",
    "    - Practicar las siguientes herramientas:\n",
    "        - Lectura de .csv\n",
    "        - Agrupaciones y reducciones\n",
    "        - Reordenamiento\n",
    "        - Unión de `DataFrames` usando `merge`\n",
    "    \n",
    "---\n",
    "    \n",
    "### 2. Desarrollo:"
   ]
  },
  {
   "cell_type": "markdown",
   "metadata": {},
   "source": [
    "#### a) Las 50 películas con mejor rating\n",
    "\n",
    "Vamos a hacer una visualización muy sencilla de las 50 películas que tienen mejor rating en nuestro dataset. Tu Reto consiste en seguir los siguientes pasos:\n",
    "\n",
    "1. Lee los archivos `movies` y `ratings`.\n",
    "2. Agrupa `ratings` por id de película y computa el promedio de `rating` para cada película\n",
    "3. Crea un nuevo `DataFrame` que sólo contenga las 50 películas con mejor promedio de ratings\n",
    "4. Agrega al `DataFrame` anterior los nombres de las películas usando la tabla `movies`.\n",
    "5. Al final tendrás un `DataFrame` con los nombres de las 50 películas con mejor rating ('title') y el promedio de sus ratings ('rating'). Asigna este resultado a la variable `las_mejores_50`."
   ]
  },
  {
   "cell_type": "code",
   "execution_count": null,
   "metadata": {},
   "outputs": [],
   "source": [
    "# Tu código va aquí\n",
    "#\n",
    "## ...\n",
    "## ...\n",
    "\n",
    "las_mejores_50 ="
   ]
  },
  {
   "cell_type": "markdown",
   "metadata": {},
   "source": [
    "Pídele a tu experta la función de verificación `plotting_best_50` (encontrada en el archivo `helpers.py` de la carpeta donde se encuentra este Reto), pégala debajo y corre la celda para verificar tu resultado:"
   ]
  },
  {
   "cell_type": "code",
   "execution_count": null,
   "metadata": {},
   "outputs": [],
   "source": [
    "# Pega aquí la función de verificación\n",
    "\n",
    "plotting_best_50(las_mejores_50)"
   ]
  },
  {
   "cell_type": "markdown",
   "metadata": {},
   "source": [
    "<details><summary>Solución</summary>\n",
    "\n",
    "```python\n",
    "movies = pd.read_csv('../../Datasets/MovieLens/movies-separated_by_money-raw.csv', sep='$', index_col=0)\n",
    "ratings = pd.read_csv('../../Datasets/MovieLens/ratings-raw.csv', index_col=0)\n",
    "means_of_ratings = ratings.groupby('movie_id')['rating'].mean()\n",
    "means_of_ratings_top_50 = means_of_ratings.sort_values(ascending=False).head(50)\n",
    "las_mejores_50 = pd.merge(means_of_ratings_top_50, movies, left_index=True, right_on='movie_id')\n",
    "```\n",
    "    \n",
    "</details>"
   ]
  }
 ],
 "metadata": {
  "kernelspec": {
   "display_name": "Python (data_science)",
   "language": "python",
   "name": "data_science"
  },
  "language_info": {
   "codemirror_mode": {
    "name": "ipython",
    "version": 3
   },
   "file_extension": ".py",
   "mimetype": "text/x-python",
   "name": "python",
   "nbconvert_exporter": "python",
   "pygments_lexer": "ipython3",
   "version": "3.8.1"
  }
 },
 "nbformat": 4,
 "nbformat_minor": 4
}
