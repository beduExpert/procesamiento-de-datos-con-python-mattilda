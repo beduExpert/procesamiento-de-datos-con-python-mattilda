{
 "cells": [
  {
   "cell_type": "markdown",
   "metadata": {},
   "source": [
    "## Reto 1: Conectándose a una base de datos\n",
    "\n",
    "### 1. Objetivos:\n",
    "    - Practicar conectarse a una base de datos y revisar la conexión.\n",
    "    \n",
    "---\n",
    "    \n",
    "### 2. Desarrollo:"
   ]
  },
  {
   "cell_type": "markdown",
   "metadata": {},
   "source": [
    "#### a) Conectándose a MySQL\n",
    "\n",
    "Este primer Reto es muy sencillo: \n",
    "\n",
    "1. Pídele a tu experta los datos de conexión que necesitas para conectarte al SGBD que ha sido levantado para esta sesión.\n",
    "2. Si no lo has hecho ya, instala la librería `mysql-connector`.\n",
    "3. Conéctate a la base de datos usando `mysql-connector`.\n",
    "4. Revisa que estás conectado a la base de datos pidiendo los nombres de todas las tablas en la base de datos."
   ]
  },
  {
   "cell_type": "code",
   "execution_count": null,
   "metadata": {},
   "outputs": [],
   "source": [
    "# Tu código va aquí\n",
    "# ...\n",
    "# ..."
   ]
  },
  {
   "cell_type": "markdown",
   "metadata": {},
   "source": [
    "Asegúrate de que tu conexión esté funcionando. Cualquier duda que tengas, la puedes expresar a tu experta. Es muy importante que te conectes exitosamente para poder realizar todos los Retos siguientes."
   ]
  },
  {
   "cell_type": "markdown",
   "metadata": {},
   "source": [
    "<details><summary>Solución</summary>\n",
    "\n",
    "```python\n",
    "import mysql.connector\n",
    "cnx = mysql.connector.connect(\n",
    "    host=\"host_que_te_indique_la_experta\",\n",
    "    port=3306,\n",
    "    user=\"usuario_que_te_indique_la_experta\",\n",
    "    password='contraseña_que_te_indique_la_experta',\n",
    "    database='movielens'\n",
    ")\n",
    "cursor = cnx.cursor()\n",
    "cursor.execute(\"SHOW TABLES\")\n",
    "cursor.fetchall()\n",
    "cursor.close()\n",
    "```\n",
    "    \n",
    "</details>"
   ]
  },
  {
   "cell_type": "code",
   "execution_count": null,
   "metadata": {},
   "outputs": [],
   "source": []
  }
 ],
 "metadata": {
  "kernelspec": {
   "display_name": "Python (data_science)",
   "language": "python",
   "name": "data_science"
  },
  "language_info": {
   "codemirror_mode": {
    "name": "ipython",
    "version": 3
   },
   "file_extension": ".py",
   "mimetype": "text/x-python",
   "name": "python",
   "nbconvert_exporter": "python",
   "pygments_lexer": "ipython3",
   "version": "3.8.1"
  }
 },
 "nbformat": 4,
 "nbformat_minor": 4
}
