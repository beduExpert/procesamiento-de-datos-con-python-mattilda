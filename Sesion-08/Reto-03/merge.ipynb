{
 "cells": [
  {
   "cell_type": "markdown",
   "metadata": {},
   "source": [
    "## Reto 3: `merge` para completar información faltante\n",
    "\n",
    "### 1. Objetivos:\n",
    "    - Completar la tabla `users` usando la información contenida en las tablas `occupations` y `age_ranges`.\n",
    "    \n",
    "---\n",
    "    \n",
    "### 2. Desarrollo:"
   ]
  },
  {
   "cell_type": "markdown",
   "metadata": {},
   "source": [
    "#### a) Complementado información usando el método `merge`\n",
    "\n",
    "No es muy práctico tener las tablas `occupations` y `age_range` por sí solas, ya que la información que contienen está íntimamente relacionada con al información de la tabla `users`. Vamos entonces a unir las tres tablas en una sola tabla para tener esa información mucho más accesible. Tu Reto consiste en los siguientes pasos:\n",
    "\n",
    "1. Lee tus archivos `users`, `occupations` y `age_range` (o como sea que les quisiste llamar) y conviértelos en `DataFrames`.\n",
    "2. Utiliza el método `merge` para agregar la información contenida en la tabla `occupations` a la tabla `users`.\n",
    "3. Utiliza el método `merge` para agregar la información contenida en la tabla `age_ranges` a la tabla `users`.\n",
    "4. Si lo consideras necesario, renombra y reordena las columnas para que la información sea clara.\n",
    "5. Guarda tu nuevo conjunto de datos en un nuevo archivo .csv."
   ]
  },
  {
   "cell_type": "code",
   "execution_count": 1,
   "metadata": {},
   "outputs": [],
   "source": [
    "# Tu código va aquí\n",
    "#\n",
    "# ...\n",
    "# ..."
   ]
  },
  {
   "cell_type": "markdown",
   "metadata": {},
   "source": [
    "Compara tus resultados con tus compañeros y tu experta para asegurarse de que todos tengan un conjunto similar que contenga toda la información requerida."
   ]
  },
  {
   "cell_type": "markdown",
   "metadata": {},
   "source": [
    "<details><summary>Solución</summary>\n",
    "\n",
    "```python\n",
    "users = pd.read_csv('../../Datasets/MovieLens/users-raw.csv', index_col=0, names=['gender', 'age', 'occupation', 'cp'])\n",
    "occupations = pd.read_csv('../../Datasets/MovieLens/occupations-raw.csv', index_col=0, names=['description'])\n",
    "age_ranges  = pd.read_csv('../../Datasets/MovieLens/age_ranges-raw.csv', index_col=0, names=['age_id', 'range'])    \n",
    "    \n",
    "users_full = pd.merge(users, occupations, left_on='occupation', right_index=True).sort_index()\n",
    "users_full = users_full.rename(columns={'description': 'occupation', 'occupation': 'occupation_id'})\n",
    "users_full = pd.merge(users_full, age_ranges, left_on='age', right_index=True).sort_index()\n",
    "users_full = users_full.rename(columns={'age': 'age_id', 'range': 'age_range'})\n",
    "users_full = users_full[['gender', 'age_id', 'age_range', 'occupation_id', 'occupation', 'cp' ]]\n",
    "users_full.to_csv('ruta')\n",
    "```\n",
    "    \n",
    "</details>"
   ]
  }
 ],
 "metadata": {
  "kernelspec": {
   "display_name": "Python (data_science)",
   "language": "python",
   "name": "data_science"
  },
  "language_info": {
   "codemirror_mode": {
    "name": "ipython",
    "version": 3
   },
   "file_extension": ".py",
   "mimetype": "text/x-python",
   "name": "python",
   "nbconvert_exporter": "python",
   "pygments_lexer": "ipython3",
   "version": "3.8.1"
  }
 },
 "nbformat": 4,
 "nbformat_minor": 4
}
