{
 "cells": [
  {
   "cell_type": "markdown",
   "metadata": {},
   "source": [
    "## Reto 6: Lo que los científicos aman\n",
    "\n",
    "### 1. Objetivos:\n",
    "    - Practicar las siguientes herramientas:\n",
    "        - Lectura de .csv\n",
    "        - `merge`\n",
    "        - Filtros con value_counts()\n",
    "        - Agrupaciones y reordenamientos\n",
    "    \n",
    "---\n",
    "    \n",
    "### 2. Desarrollo:"
   ]
  },
  {
   "cell_type": "markdown",
   "metadata": {},
   "source": [
    "#### a) Lo que los científicos aman\n",
    "\n",
    "En este Reto vamos a obtener una lista de las películas que fueron mejor evaluadas por científicos para saber cuáles son sus favoritas. Vamos a realizar los siguientes pasos:\n",
    "\n",
    "1. Lee los archivos para `movies`, `ratings` y `users`.\n",
    "2. Agrega **solamente** la columna `occupation` al `DataFrame` `ratings`, para tener la información de las ocupaciones de los usuarios que realizaron los ratings.\n",
    "3. Filtra tu tabla `ratings` para quedarte solamente con los ratings hechos por científicos.\n",
    "4. Agrega **solamente** la columna `title` de la tabla `movies` a la tabla `ratings` para tener la información de los nombres de las películas que fueron evaluadas por científicos.\n",
    "5. Filtra tu `DataFrame` para quedarte **solamente** con las películas que fueron evaluadas más de 50 veces.\n",
    "6. Realiza una agrupación por película y computa el promedio de los ratings de cada película.\n",
    "7. Ordena la `Serie` resultante descendentemente y asígnala  a la variable `mean_of_scientists_ratings_sorted`.\n",
    "\n",
    "> **Nota**: el paso #5 es un poco complejo. No te desesperes si no encuentras una solución rápidamente. ¡Pídele a la experta que te guíe para que puedas resolverlo sin que te explote la cabeza!"
   ]
  },
  {
   "cell_type": "code",
   "execution_count": null,
   "metadata": {},
   "outputs": [],
   "source": [
    "# Tu código va aquí\n",
    "#\n",
    "## ...\n",
    "## ...\n",
    "\n",
    "mean_of_scientists_ratings_sorted ="
   ]
  },
  {
   "cell_type": "markdown",
   "metadata": {},
   "source": [
    "Pídele a tu experta la función de verificación `visualizar_lista` (encontrada en el archivo `helpers.py` de la carpeta donde se encuentra este Reto), pégala debajo y corre la celda para verificar tu resultado."
   ]
  },
  {
   "cell_type": "code",
   "execution_count": null,
   "metadata": {},
   "outputs": [],
   "source": [
    "# Pega aquí la función de verificación \n",
    "\n",
    "visualizar_lista(mean_of_scientists_ratings_sorted)"
   ]
  },
  {
   "cell_type": "markdown",
   "metadata": {},
   "source": [
    "<details><summary>Solución</summary>\n",
    "\n",
    "```python\n",
    "movies = pd.read_csv('../../Datasets/MovieLens/movies-separated_by_money-raw.csv', sep='$', index_col=0)\n",
    "ratings = pd.read_csv('../../Datasets/MovieLens/ratings-raw.csv')\n",
    "users = pd.read_csv('../../Datasets/MovieLens/users-full.csv')\n",
    "ratings_with_occupation = pd.merge(ratings, users['occupation'], left_on='user_id', right_index=True)\n",
    "only_scientists = ratings_with_occupation[ratings_with_occupation['occupation'] == 'scientist']\n",
    "only_scientist_with_movie_title = pd.merge(only_scientists, movies['title'], left_on='movie_id', right_index=True)\n",
    "movies_that_appear_more_than_50_times_filter = only_scientist_with_movie_title['title'].value_counts() > 50\n",
    "titles_of_movies_that_appear_more_than_50_times = only_scientist_with_movie_title['title'].value_counts()[movies_that_appear_more_than_50_times_filter].index\n",
    "def title_is_in_list(list_of_titles, title):\n",
    "    return title in list_of_titles\n",
    "ratings_for_most_rated_movies = only_scientist_with_movie_title[only_scientist_with_movie_title['title'].apply(lambda x: title_is_in_list(titles_of_movies_that_appear_more_than_50_times, x))]\n",
    "mean_of_scientist_ratings = ratings_for_most_rated_movies.groupby('title')['rating'].mean()\n",
    "mean_of_scientists_ratings_sorted = mean_of_scientist_ratings.sort_values(ascending=False)\n",
    "```\n",
    "    \n",
    "</details>"
   ]
  }
 ],
 "metadata": {
  "kernelspec": {
   "display_name": "Python (data_science)",
   "language": "python",
   "name": "data_science"
  },
  "language_info": {
   "codemirror_mode": {
    "name": "ipython",
    "version": 3
   },
   "file_extension": ".py",
   "mimetype": "text/x-python",
   "name": "python",
   "nbconvert_exporter": "python",
   "pygments_lexer": "ipython3",
   "version": "3.8.1"
  }
 },
 "nbformat": 4,
 "nbformat_minor": 4
}
