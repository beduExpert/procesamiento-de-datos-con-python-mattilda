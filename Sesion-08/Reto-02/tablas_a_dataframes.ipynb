{
 "cells": [
  {
   "cell_type": "markdown",
   "metadata": {},
   "source": [
    "## Reto 2: Convertir tablas en MySQL a `DataFrames` de `pandas`\n",
    "\n",
    "### 1. Objetivos:\n",
    "    - Solicitar todos los datos de las tablas que están almacenadas en nuestra base de datos, convertirlos a `DataFrames` y guardarlos.\n",
    "    \n",
    "---\n",
    "    \n",
    "### 2. Desarrollo:"
   ]
  },
  {
   "cell_type": "markdown",
   "metadata": {},
   "source": [
    "#### a) Tablas a `DataFrames`\n",
    "\n",
    "Ya que tenemos nuestra conexión funcionando adecuadamente, vamos a utilizarla para realizar consultas a las base de datos y construir una base de datos local. Tu Reto consiste en los siguientes pasos:\n",
    "\n",
    "1. Vuelve a establecer la conexión a la base de datos\n",
    "2. Usando el comando `SELECT * FROM nombre_de_tabla`, realiza consultas a cada una de las 5 tablas que existen en la base de datos.\n",
    "3. Crea un `DataFrame` por cada tabla que obtuviste. Para asignarle los nombres de las columnas correctamente, revisa el archivo [Readme.md](../../Datasets/MovieLens/Readme.md) donde está contenida toda esa información.\n",
    "4. Asegúrate de que el índice sea adecuado en cada `DataFrame`. En los casos en los que haya datos redundantes, convierte una de las columnas en índice.\n",
    "5. Si lo deseas ordena las columnas de la manera en la que mejor te parezca.\n",
    "6. Guarda tus `DataFrames` en formato .csv para utilizarlos en los siguientes Retos.\n",
    "\n",
    "> **NOTA IMPORTANTE**: La tabla movies es un poco complicada porque contiene muchos signos distintos. Tanto en la columna de nombre de película como la de género, encontramos signos como `,`, `:`, `.`, `|`. Esto hace un poco complicado el almacenamiento y lectura de este archivo. Si elijes guardar este archivo como un .csv separado por comas (`,`), a la hora de leerlo de regreso, `pandas` puede confundirse y pensar que el título de una película que contiene comas constituye dos columnas. Por esta razón, te recomiendo que la tabla `movies` la guardes agregando un separador poco convencional como `sep='$'`. De esta manera será muchísimo más fácil leer tu archivo de regreso usando ese separador."
   ]
  },
  {
   "cell_type": "code",
   "execution_count": 1,
   "metadata": {},
   "outputs": [],
   "source": [
    "# Tu código va a aquí\n",
    "#\n",
    "# ...\n",
    "# ..."
   ]
  },
  {
   "cell_type": "markdown",
   "metadata": {},
   "source": [
    "Compara con tus compañeros y revisa con la experta para que todos estén seguros de que tienen sus `DataFrames` estructurados de la manera correcta y que sus archivos .csv fueron creados exitosamente. Vamos a utilizar estos archivos en los Retos siguientes, así que es muy importante que tus datos estén estructurados adecuadamente."
   ]
  },
  {
   "cell_type": "markdown",
   "metadata": {},
   "source": [
    "<details><summary>Solución</summary>\n",
    "\n",
    "```python\n",
    "import mysql.connector\n",
    "cnx = mysql.connector.connect(\n",
    "    host=\"host_que_te_indique_la_experta\",\n",
    "    port=3306,\n",
    "    user=\"usuario_que_te_indique_la_experta\",\n",
    "    password='contraseña_que_te_indique_la_experta',\n",
    "    database='movielens'\n",
    ")\n",
    "cursor = cnx.cursor()\n",
    "cursor.execute(\"SHOW TABLES\")\n",
    "cursor.fetchall()\n",
    "    \n",
    "# movies\n",
    "cursor.execute(\"SELECT * FROM movies\")\n",
    "result = cursor.fetchall()\n",
    "movies = pd.DataFrame(result, columns=['movie_id', 'title', 'genres'])\n",
    "movies = movies.set_index('movie_id', drop=True)\n",
    "    \n",
    "# users\n",
    "cursor.execute(\"SELECT * FROM users\")\n",
    "result = cursor.fetchall()\n",
    "users = pd.DataFrame(result, columns=['user_id', 'gender', 'age', 'occupation', 'cp'])\n",
    "users = users.set_index('user_id', drop=True)\n",
    "\n",
    "# ratings\n",
    "cursor.execute(\"SELECT * FROM ratings\")\n",
    "result = cursor.fetchall()\n",
    "ratings = pd.DataFrame(result, columns=['user_id', 'movie_id', 'rating', 'timestamp'])\n",
    "\n",
    "# age ranges\n",
    "cursor.execute(\"SELECT * FROM age_ranges\")\n",
    "result = cursor.fetchall()\n",
    "age_ranges = pd.DataFrame(result, columns=['age_id', 'range'])\n",
    "age_ranges = age_ranges.set_index('age_id', drop=True)\n",
    "\n",
    "# occupations\n",
    "cursor.execute(\"SELECT * FROM occupations\")\n",
    "result = cursor.fetchall()\n",
    "occupations = pd.DataFrame(result, columns=['occupation_id', 'description'])\n",
    "occupations = occupations.set_index('occupation_id', drop=True)\n",
    "    \n",
    "cursor.close()\n",
    "    \n",
    "movies.to_csv('ruta')\n",
    "users.to_csv('ruta')\n",
    "ratings.to_csv('ruta')\n",
    "age_ranges.to_csv('ruta')\n",
    "occupations.to_csv('ruta')\n",
    "```\n",
    "    \n",
    "</details>"
   ]
  },
  {
   "cell_type": "code",
   "execution_count": null,
   "metadata": {},
   "outputs": [],
   "source": []
  }
 ],
 "metadata": {
  "kernelspec": {
   "display_name": "Python (data_science)",
   "language": "python",
   "name": "data_science"
  },
  "language_info": {
   "codemirror_mode": {
    "name": "ipython",
    "version": 3
   },
   "file_extension": ".py",
   "mimetype": "text/x-python",
   "name": "python",
   "nbconvert_exporter": "python",
   "pygments_lexer": "ipython3",
   "version": "3.8.1"
  }
 },
 "nbformat": 4,
 "nbformat_minor": 4
}
