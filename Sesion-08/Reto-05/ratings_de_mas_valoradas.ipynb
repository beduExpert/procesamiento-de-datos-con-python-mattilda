{
 "cells": [
  {
   "cell_type": "markdown",
   "metadata": {},
   "source": [
    "## Reto 5: Distribución de ratings de las películas más valoradas\n",
    "\n",
    "### 1. Objetivos:\n",
    "    - Practicar las siguientes herramientas:\n",
    "        - Lectura de .csv\n",
    "        - `merge`\n",
    "        - Creación de filtros usando `apply`\n",
    "    \n",
    "---\n",
    "    \n",
    "### 2. Desarrollo:"
   ]
  },
  {
   "cell_type": "markdown",
   "metadata": {},
   "source": [
    "#### a) Creando un box plot de distribución de ratings\n",
    "\n",
    "Vamos a ver cómo están distribuidos los ratings de las películas más valoradas de nuestro dataset. La siguiente es una lista de las películas que tienen más de 2500 valoraciones en nuestro dataset:\n",
    "\n",
    "`[2858, 260, 1196, 1210, 480, 2028, 589, 2571, 1270, 593, 1580, 1198, 608]`\n",
    "\n",
    "Realiza los siguientes pasos:\n",
    "\n",
    "1. Lee tus archivos `ratings` y `movies`.\n",
    "2. Obtén una lista con los ids de las películas con más de 2500 valoraciones.Debe ser igual a la lista de arriba.\n",
    "3. Crea una función que tome una lista de ids y un id y regrese `True` si el id se encuentra en la lista (puedes usar el operador `in` de Python).\n",
    "4. Usa `apply` para aplicar esa función a la columna `ratings['movie_id']` y obtener un filtro.\n",
    "5. Usa tu filtro para filtrar el `DataFrame` `ratings` y quedarte solamente con las entradas de las películas que fueron valoradas más de 2500 veces.\n",
    "6. Usando `merge` agrega los nombres de las películas a tu `DataFrame` `ratings`. Asigna el resultado a la variable `ratings_filtrados_con_nombre`.\n",
    "\n",
    "> **Nota** el paso #4 es algo complejo. Si tienes dificultades para realizarlo, ¡no dudes en pedirle ayuda a tu experta!"
   ]
  },
  {
   "cell_type": "code",
   "execution_count": null,
   "metadata": {},
   "outputs": [],
   "source": [
    "# Tu código va aquí\n",
    "#\n",
    "## ...\n",
    "## ...\n",
    "\n",
    "ratings_filtrados_con_nombre ="
   ]
  },
  {
   "cell_type": "markdown",
   "metadata": {},
   "source": [
    "Pídele a tu experta la función de verificación `visualizar_boxplots` (encontrada en el archivo `helpers.py` de la carpeta donde se encuentra este Reto), pégala debajo y corre la celda para verificar tu resultado. Tu `DataFrame` debe de tener una columna `title` y otra `rating` para que la visualización pueda funcionar:"
   ]
  },
  {
   "cell_type": "code",
   "execution_count": null,
   "metadata": {},
   "outputs": [],
   "source": [
    "# Pega aquí la función de verificación \n",
    "\n",
    "visualizar_boxplots(ratings_filtrados_con_nombre)"
   ]
  },
  {
   "cell_type": "markdown",
   "metadata": {},
   "source": [
    "<details><summary>Solución</summary>\n",
    "\n",
    "```python\n",
    "ratings = pd.read_csv('../../Datasets/MovieLens/ratings-raw.csv')\n",
    "movies = pd.read_csv('../../Datasets/MovieLens/movies-separated_by_money-raw.csv', sep='$', index_col=0)\n",
    "conteo_de_valoraciones = ratings['movie_id'].value_counts()\n",
    "filtro_de_pelis_valoradas_mas_de_2500_veces = conteo_de_valoraciones > 2500\n",
    "conteo_de_pelis_valoradas_mas_de_2500_veces = conteo_de_valoraciones[filtro_de_pelis_valoradas_mas_de_2500_veces]\n",
    "ids_de_pelis_valoradas_mas_de_2500_veces = conteo_de_pelis_valoradas_mas_de_2500_veces.index\n",
    "def id_esta_en_lista_de_ids(lista_de_ids, id_):\n",
    "    return id_ in lista_de_ids\n",
    "filtro_de_ratings = ratings['movie_id'].apply(lambda x: id_esta_en_lista_de_ids(ids_de_pelis_valoradas_mas_de_2500_veces, x))\n",
    "ratings_filtrados = ratings[filtro_de_ratings]\n",
    "ratings_filtrados_con_nombre = pd.merge(ratings_filtrados, movies['title'], left_on='movie_id', right_index=True)\n",
    "```\n",
    "    \n",
    "</details>"
   ]
  }
 ],
 "metadata": {
  "kernelspec": {
   "display_name": "Python (data_science)",
   "language": "python",
   "name": "data_science"
  },
  "language_info": {
   "codemirror_mode": {
    "name": "ipython",
    "version": 3
   },
   "file_extension": ".py",
   "mimetype": "text/x-python",
   "name": "python",
   "nbconvert_exporter": "python",
   "pygments_lexer": "ipython3",
   "version": "3.8.1"
  }
 },
 "nbformat": 4,
 "nbformat_minor": 4
}
