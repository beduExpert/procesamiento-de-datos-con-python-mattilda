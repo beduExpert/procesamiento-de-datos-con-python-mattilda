{
 "cells": [
  {
   "cell_type": "markdown",
   "metadata": {},
   "source": [
    "## Reto 1: Funciones vectorizadas\n",
    "\n",
    "### 1. Objetivos:\n",
    "    - Practicar el uso de funciones vectorizadas\n",
    " \n",
    "---\n",
    "    \n",
    "### 2. Desarrollo:"
   ]
  },
  {
   "cell_type": "markdown",
   "metadata": {},
   "source": [
    "#### a) Porcentaje del total\n",
    "\n",
    "Eres maestro en la H. Universidad de las Américas Unidas. Has realizado el examen final de la primera generación de estudiantes de la escuela. El conteo máximo de aciertos en el examen era de 68 (es decir, 68 aciertos equivale al 100% de las preguntas respondidas correctamente). La siguiente `Serie` reúne los aciertos obtenidos por los 25 alumnos de la generación:"
   ]
  },
  {
   "cell_type": "code",
   "execution_count": null,
   "metadata": {},
   "outputs": [],
   "source": [
    "## Realizar aquí los imports que necesites"
   ]
  },
  {
   "cell_type": "code",
   "execution_count": null,
   "metadata": {},
   "outputs": [],
   "source": [
    "aciertos = pd.Series([50, 55, 45, 65, 66, 46, 48, 53, 55, 56, 59, 68, 67, 60, 45, 56, 66, 64, 59, 55, 34, 45, 49, 48, 55])"
   ]
  },
  {
   "cell_type": "markdown",
   "metadata": {},
   "source": [
    "Tus calificaciones las das siempre en \"porcentaje de aciertos\". Tu reto es convertir la `Serie` `aciertos` en la `Serie` `porcentajes`, que contiene cada valor de `aciertos` como un porcentaje del número de aciertos totales (68).\n",
    "\n",
    "**SÓLO** puedes usar funciones vectorizadas de `numpy` para realizar tus cálculos. [Aquí puedes encontrar las funciones que necesitas](https://www.interactivechaos.com/manual/tutorial-de-numpy/funciones-universales-matematicas)."
   ]
  },
  {
   "cell_type": "code",
   "execution_count": null,
   "metadata": {},
   "outputs": [],
   "source": [
    "## Realiza aquí tus cálculos\n",
    "##\n",
    "## ...\n",
    "## ...\n",
    "\n",
    "porcentajes ="
   ]
  },
  {
   "cell_type": "markdown",
   "metadata": {},
   "source": [
    "Pídele a tu experta la función de verificación `obtener_calificaciones` (encontrada en el archivo `helpers.py` de la carpeta donde se encuentra este Reto), pégala debajo y corre la celda para verificar tu resultado:"
   ]
  },
  {
   "cell_type": "code",
   "execution_count": null,
   "metadata": {},
   "outputs": [],
   "source": [
    "# Pega aquí la función de verificación\n",
    "\n",
    "obtener_calificaciones(aciertos, porcentajes)"
   ]
  },
  {
   "cell_type": "markdown",
   "metadata": {},
   "source": [
    "<details><summary>Solución</summary>\n",
    "\n",
    "```python\n",
    "por_100 = np.multiply(aciertos, 100)\n",
    "entre_68 = np.divide(por_100, 68)\n",
    "\n",
    "porcentajes = entre_68\n",
    "```\n",
    "    \n",
    "</details>"
   ]
  },
  {
   "cell_type": "code",
   "execution_count": null,
   "metadata": {},
   "outputs": [],
   "source": []
  }
 ],
 "metadata": {
  "kernelspec": {
   "display_name": "Python (data_science)",
   "language": "python",
   "name": "data_science"
  },
  "language_info": {
   "codemirror_mode": {
    "name": "ipython",
    "version": 3
   },
   "file_extension": ".py",
   "mimetype": "text/x-python",
   "name": "python",
   "nbconvert_exporter": "python",
   "pygments_lexer": "ipython3",
   "version": "3.7.6"
  }
 },
 "nbformat": 4,
 "nbformat_minor": 4
}
