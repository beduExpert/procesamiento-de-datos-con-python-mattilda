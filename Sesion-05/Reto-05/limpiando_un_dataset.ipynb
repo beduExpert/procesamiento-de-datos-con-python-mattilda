{
 "cells": [
  {
   "cell_type": "markdown",
   "metadata": {},
   "source": [
    "## Reto 5: Limpiando un dataset\n",
    "\n",
    "### 1. Objetivos:\n",
    "    - Aplicar todo lo que aprendimos el día de hoy a un dataset real\n",
    " \n",
    "---\n",
    "    \n",
    "### 2. Desarrollo:"
   ]
  },
  {
   "cell_type": "markdown",
   "metadata": {},
   "source": [
    "#### a) Limpieza de datos en el mundo real\n",
    "\n",
    "Hasta ahora hemos estado realizando ejercicios con datasets dummy (falsos). Ahora vamos a aplicar todo lo que hemos aprendido el día de hoy a un dataset real.\n",
    "\n",
    "El dataset se encuentra en la carpeta [Datasets](../../Datasets/Readme.md) en la raíz del repositorio. El nombre el dataset es 'melbourne_housing-raw.csv'.\n",
    "\n",
    "Lee el dataset usando pandas y realiza las siguientes tareas:\n",
    "\n",
    "1. Ve a este [link](https://www.kaggle.com/anthonypino/melbourne-housing-market) para conocer más sobre el dataset y los datos que contiene.\n",
    "2. Explora tu dataset para entender su estructura\n",
    "3. Identifica los `NaNs` en el dataset y dónde se encuentran\n",
    "4. Elimina los `NaNs` de tu dataset\n",
    "5. Resetea tu índice para que sea compatible con el nuevo dataset\n",
    "6. Cambia los nombres de las columnas para que tengan consistencia y no haya errores ortográficos\n",
    "7. Realiza agregaciones (min, man, mean, etc) de las siguientes filas para conocer mejor la distribución de tus datos:\n",
    "    a) Price\n",
    "    b) Distance\n",
    "    c) Landsize\n",
    "    \n",
    "Si tienes dudas en algún momento, por favor pídele a la experta que te oriente. Todas las tareas que hay que realizar ya las hemos hecho en otros retos; puedes ir a revisar esos otros ejercicios para recordar.\n",
    "\n",
    "¡Mucha suerte!"
   ]
  },
  {
   "cell_type": "code",
   "execution_count": null,
   "metadata": {},
   "outputs": [],
   "source": []
  }
 ],
 "metadata": {
  "kernelspec": {
   "display_name": "Python (data_science)",
   "language": "python",
   "name": "data_science"
  },
  "language_info": {
   "codemirror_mode": {
    "name": "ipython",
    "version": 3
   },
   "file_extension": ".py",
   "mimetype": "text/x-python",
   "name": "python",
   "nbconvert_exporter": "python",
   "pygments_lexer": "ipython3",
   "version": "3.8.1"
  }
 },
 "nbformat": 4,
 "nbformat_minor": 4
}
